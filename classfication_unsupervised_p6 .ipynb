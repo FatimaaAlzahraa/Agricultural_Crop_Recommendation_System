{
 "cells": [
  {
   "cell_type": "markdown",
   "metadata": {
    "id": "o8j6Lbz6v6Hc"
   },
   "source": [
    "# Optimizing-Agricultural-Production\n",
    "## Problem Statement -\n",
    "Building a Predictive Model so as to suggest the most suitable crops to grow based on the available climatic and soil conditions.\n",
    "\n",
    "## Goal -\n",
    "To achieve precision farming by optimizing the agricultural production.\n",
    "The project is intended on Precision Farming.\n",
    "\n",
    "➔ To Optimize Productivity\n",
    "\n",
    "➔ By Understanding requirements of climatic and soil conditions for crops.\n",
    "\n",
    "➔ Helps us to Cope up with weather unpredictability.\n",
    "\n",
    "## About The Dataset Used (data.csv) -\n",
    "The Dataset Consists of 22 Unique Crops such as Maize, Wheat, Mango, Watermelon, Mango etc.\n",
    "\n",
    "➔ The dataset consists of climatic conditions required to grow the crops.\n",
    "\n",
    "   ◆ Temperature, Humidity, Rainfall.\n",
    "\n",
    "➔ The dataset also consists of soil conditions required to grow the crops\n",
    "\n",
    "   ◆ N: The Ratio of Nitrogen Content in Soil.\n",
    "   \n",
    "   ◆ P: The Ratio of Phosphorus Content in Soil.\n",
    "   \n",
    "   ◆ K: The Ratio of Potassium Content in Soil.\n",
    "   \n",
    "   ◆ pH: pH of the Soil\n",
    "   \n",
    "   \n",
    "   ## Libraries Used In The Project -\n",
    "   \n",
    "● Numpy: Used for Mathematical Operations.\n",
    "\n",
    "● Pandas: Used for DataFrame Operations.\n",
    "\n",
    "● Seaborn and Matplotlib: Used for Data Visualizations.\n",
    "\n",
    "● Ipywidgets: Used for Interactive Analysis.\n",
    "\n",
    "● Sklearn: Used for Machine Learning Algorithms\n",
    "\n",
    "   ## Steps of the algorithms\n",
    "1- Understanding the Dataset.\n",
    "\n",
    "2- Understanding the Problem Statement.\n",
    "\n",
    "3- Performing Descriptive Statistics.\n",
    "\n",
    "4- Clustering Similar Crops.\n",
    "\n",
    "5- Visualizing the Hidden Patterns.\n",
    "\n",
    "6- Building a Machine Learning Classification Model.\n"
   ]
  },
  {
   "cell_type": "code",
   "execution_count": 60,
   "metadata": {
    "id": "aKBPavSqHR54"
   },
   "outputs": [],
   "source": [
    "#libarary \n",
    "import pandas as pd\n",
    "import numpy as np\n",
    "import matplotlib.pyplot as plt"
   ]
  },
  {
   "cell_type": "code",
   "execution_count": 3,
   "metadata": {
    "colab": {
     "base_uri": "https://localhost:8080/",
     "height": 423
    },
    "id": "DGAfaqaivxb-",
    "outputId": "1430acf3-0608-4113-c4bf-c0852e5f35b2"
   },
   "outputs": [
    {
     "data": {
      "text/html": [
       "<div>\n",
       "<style scoped>\n",
       "    .dataframe tbody tr th:only-of-type {\n",
       "        vertical-align: middle;\n",
       "    }\n",
       "\n",
       "    .dataframe tbody tr th {\n",
       "        vertical-align: top;\n",
       "    }\n",
       "\n",
       "    .dataframe thead th {\n",
       "        text-align: right;\n",
       "    }\n",
       "</style>\n",
       "<table border=\"1\" class=\"dataframe\">\n",
       "  <thead>\n",
       "    <tr style=\"text-align: right;\">\n",
       "      <th></th>\n",
       "      <th>N</th>\n",
       "      <th>P</th>\n",
       "      <th>K</th>\n",
       "      <th>temperature</th>\n",
       "      <th>humidity</th>\n",
       "      <th>ph</th>\n",
       "      <th>rainfall</th>\n",
       "      <th>label</th>\n",
       "    </tr>\n",
       "  </thead>\n",
       "  <tbody>\n",
       "    <tr>\n",
       "      <th>0</th>\n",
       "      <td>90</td>\n",
       "      <td>42</td>\n",
       "      <td>43</td>\n",
       "      <td>20.879744</td>\n",
       "      <td>82.002744</td>\n",
       "      <td>6.502985</td>\n",
       "      <td>202.935536</td>\n",
       "      <td>rice</td>\n",
       "    </tr>\n",
       "    <tr>\n",
       "      <th>1</th>\n",
       "      <td>85</td>\n",
       "      <td>58</td>\n",
       "      <td>41</td>\n",
       "      <td>21.770462</td>\n",
       "      <td>80.319644</td>\n",
       "      <td>7.038096</td>\n",
       "      <td>226.655537</td>\n",
       "      <td>rice</td>\n",
       "    </tr>\n",
       "    <tr>\n",
       "      <th>2</th>\n",
       "      <td>60</td>\n",
       "      <td>55</td>\n",
       "      <td>44</td>\n",
       "      <td>23.004459</td>\n",
       "      <td>82.320763</td>\n",
       "      <td>7.840207</td>\n",
       "      <td>263.964248</td>\n",
       "      <td>rice</td>\n",
       "    </tr>\n",
       "    <tr>\n",
       "      <th>3</th>\n",
       "      <td>74</td>\n",
       "      <td>35</td>\n",
       "      <td>40</td>\n",
       "      <td>26.491096</td>\n",
       "      <td>80.158363</td>\n",
       "      <td>6.980401</td>\n",
       "      <td>242.864034</td>\n",
       "      <td>rice</td>\n",
       "    </tr>\n",
       "    <tr>\n",
       "      <th>4</th>\n",
       "      <td>78</td>\n",
       "      <td>42</td>\n",
       "      <td>42</td>\n",
       "      <td>20.130175</td>\n",
       "      <td>81.604873</td>\n",
       "      <td>7.628473</td>\n",
       "      <td>262.717340</td>\n",
       "      <td>rice</td>\n",
       "    </tr>\n",
       "    <tr>\n",
       "      <th>...</th>\n",
       "      <td>...</td>\n",
       "      <td>...</td>\n",
       "      <td>...</td>\n",
       "      <td>...</td>\n",
       "      <td>...</td>\n",
       "      <td>...</td>\n",
       "      <td>...</td>\n",
       "      <td>...</td>\n",
       "    </tr>\n",
       "    <tr>\n",
       "      <th>2195</th>\n",
       "      <td>107</td>\n",
       "      <td>34</td>\n",
       "      <td>32</td>\n",
       "      <td>26.774637</td>\n",
       "      <td>66.413269</td>\n",
       "      <td>6.780064</td>\n",
       "      <td>177.774507</td>\n",
       "      <td>coffee</td>\n",
       "    </tr>\n",
       "    <tr>\n",
       "      <th>2196</th>\n",
       "      <td>99</td>\n",
       "      <td>15</td>\n",
       "      <td>27</td>\n",
       "      <td>27.417112</td>\n",
       "      <td>56.636362</td>\n",
       "      <td>6.086922</td>\n",
       "      <td>127.924610</td>\n",
       "      <td>coffee</td>\n",
       "    </tr>\n",
       "    <tr>\n",
       "      <th>2197</th>\n",
       "      <td>118</td>\n",
       "      <td>33</td>\n",
       "      <td>30</td>\n",
       "      <td>24.131797</td>\n",
       "      <td>67.225123</td>\n",
       "      <td>6.362608</td>\n",
       "      <td>173.322839</td>\n",
       "      <td>coffee</td>\n",
       "    </tr>\n",
       "    <tr>\n",
       "      <th>2198</th>\n",
       "      <td>117</td>\n",
       "      <td>32</td>\n",
       "      <td>34</td>\n",
       "      <td>26.272418</td>\n",
       "      <td>52.127394</td>\n",
       "      <td>6.758793</td>\n",
       "      <td>127.175293</td>\n",
       "      <td>coffee</td>\n",
       "    </tr>\n",
       "    <tr>\n",
       "      <th>2199</th>\n",
       "      <td>104</td>\n",
       "      <td>18</td>\n",
       "      <td>30</td>\n",
       "      <td>23.603016</td>\n",
       "      <td>60.396475</td>\n",
       "      <td>6.779833</td>\n",
       "      <td>140.937041</td>\n",
       "      <td>coffee</td>\n",
       "    </tr>\n",
       "  </tbody>\n",
       "</table>\n",
       "<p>2200 rows × 8 columns</p>\n",
       "</div>"
      ],
      "text/plain": [
       "        N   P   K  temperature   humidity        ph    rainfall   label\n",
       "0      90  42  43    20.879744  82.002744  6.502985  202.935536    rice\n",
       "1      85  58  41    21.770462  80.319644  7.038096  226.655537    rice\n",
       "2      60  55  44    23.004459  82.320763  7.840207  263.964248    rice\n",
       "3      74  35  40    26.491096  80.158363  6.980401  242.864034    rice\n",
       "4      78  42  42    20.130175  81.604873  7.628473  262.717340    rice\n",
       "...   ...  ..  ..          ...        ...       ...         ...     ...\n",
       "2195  107  34  32    26.774637  66.413269  6.780064  177.774507  coffee\n",
       "2196   99  15  27    27.417112  56.636362  6.086922  127.924610  coffee\n",
       "2197  118  33  30    24.131797  67.225123  6.362608  173.322839  coffee\n",
       "2198  117  32  34    26.272418  52.127394  6.758793  127.175293  coffee\n",
       "2199  104  18  30    23.603016  60.396475  6.779833  140.937041  coffee\n",
       "\n",
       "[2200 rows x 8 columns]"
      ]
     },
     "execution_count": 3,
     "metadata": {},
     "output_type": "execute_result"
    }
   ],
   "source": [
    "#Reading the Dataset.\n",
    "data = pd.read_csv ('data.csv')\n",
    "data"
   ]
  },
  {
   "cell_type": "code",
   "execution_count": 4,
   "metadata": {
    "colab": {
     "base_uri": "https://localhost:8080/"
    },
    "id": "HZ0NIwG6IDip",
    "outputId": "7e69cdeb-ff4a-4c04-a4f0-6c4b9c6d8dbe"
   },
   "outputs": [],
   "source": [
    "#from google.colab import drive\n",
    "#drive.mount('/content/drive')"
   ]
  },
  {
   "cell_type": "markdown",
   "metadata": {
    "id": "D_nVUNtaHf1P"
   },
   "source": [
    "# New Section"
   ]
  },
  {
   "cell_type": "code",
   "execution_count": 5,
   "metadata": {
    "colab": {
     "base_uri": "https://localhost:8080/"
    },
    "id": "yjt-E4Db2Mei",
    "outputId": "1d0ae960-6fad-466d-f27b-daef667320f2"
   },
   "outputs": [
    {
     "data": {
      "text/plain": [
       "N              0\n",
       "P              0\n",
       "K              0\n",
       "temperature    0\n",
       "humidity       0\n",
       "ph             0\n",
       "rainfall       0\n",
       "label          0\n",
       "dtype: int64"
      ]
     },
     "execution_count": 5,
     "metadata": {},
     "output_type": "execute_result"
    }
   ],
   "source": [
    "#Checking the missing values\n",
    "data.isnull().sum()"
   ]
  },
  {
   "cell_type": "code",
   "execution_count": 6,
   "metadata": {
    "colab": {
     "base_uri": "https://localhost:8080/"
    },
    "id": "G1NE56UB2Qvy",
    "outputId": "ba1db905-2c04-44e1-8afe-07c51298ccc7"
   },
   "outputs": [
    {
     "data": {
      "text/plain": [
       "rice           100\n",
       "maize          100\n",
       "jute           100\n",
       "cotton         100\n",
       "coconut        100\n",
       "papaya         100\n",
       "orange         100\n",
       "apple          100\n",
       "muskmelon      100\n",
       "watermelon     100\n",
       "grapes         100\n",
       "mango          100\n",
       "banana         100\n",
       "pomegranate    100\n",
       "lentil         100\n",
       "blackgram      100\n",
       "mungbean       100\n",
       "mothbeans      100\n",
       "pigeonpeas     100\n",
       "kidneybeans    100\n",
       "chickpea       100\n",
       "coffee         100\n",
       "Name: label, dtype: int64"
      ]
     },
     "execution_count": 6,
     "metadata": {},
     "output_type": "execute_result"
    }
   ],
   "source": [
    "#Checking the crops present\n",
    "data['label'].value_counts()"
   ]
  },
  {
   "cell_type": "code",
   "execution_count": 7,
   "metadata": {
    "colab": {
     "base_uri": "https://localhost:8080/"
    },
    "id": "gtB-vdGdS2BQ",
    "outputId": "3124e382-6020-4a7d-e2b2-113a010ac09a"
   },
   "outputs": [
    {
     "data": {
      "text/plain": [
       "0"
      ]
     },
     "execution_count": 7,
     "metadata": {},
     "output_type": "execute_result"
    }
   ],
   "source": [
    "data.duplicated().sum()"
   ]
  },
  {
   "cell_type": "code",
   "execution_count": 8,
   "metadata": {
    "colab": {
     "base_uri": "https://localhost:8080/"
    },
    "id": "upk5e5XU2TkJ",
    "outputId": "e04ce63f-3933-4fd7-815e-2f872408ac16"
   },
   "outputs": [
    {
     "data": {
      "text/plain": [
       "count    2200.000000\n",
       "mean       25.616244\n",
       "std         5.063749\n",
       "min         8.825675\n",
       "25%        22.769375\n",
       "50%        25.598693\n",
       "75%        28.561654\n",
       "max        43.675493\n",
       "Name: temperature, dtype: float64"
      ]
     },
     "execution_count": 8,
     "metadata": {},
     "output_type": "execute_result"
    }
   ],
   "source": [
    "#Checking average climatic and soil requirements\n",
    "data['temperature'].describe()"
   ]
  },
  {
   "cell_type": "code",
   "execution_count": 9,
   "metadata": {
    "colab": {
     "base_uri": "https://localhost:8080/"
    },
    "id": "n97GF1D32i_n",
    "outputId": "f30dfd01-b552-410b-8b48-c0a40273fc6a"
   },
   "outputs": [
    {
     "data": {
      "text/plain": [
       "['N', 'P', 'K', 'temperature', 'humidity', 'ph', 'rainfall']"
      ]
     },
     "execution_count": 9,
     "metadata": {},
     "output_type": "execute_result"
    }
   ],
   "source": [
    "#Checking the detailed statistics for each crop\n",
    "list = [ 'N' , 'P' , 'K', 'temperature' , 'humidity' , 'ph' , 'rainfall']\n",
    "list"
   ]
  },
  {
   "cell_type": "code",
   "execution_count": 10,
   "metadata": {
    "colab": {
     "base_uri": "https://localhost:8080/",
     "height": 300
    },
    "id": "6JX1PCM3Vi-H",
    "outputId": "1f5e83a2-1693-4159-fb61-e725755342a4"
   },
   "outputs": [
    {
     "data": {
      "text/html": [
       "<div>\n",
       "<style scoped>\n",
       "    .dataframe tbody tr th:only-of-type {\n",
       "        vertical-align: middle;\n",
       "    }\n",
       "\n",
       "    .dataframe tbody tr th {\n",
       "        vertical-align: top;\n",
       "    }\n",
       "\n",
       "    .dataframe thead th {\n",
       "        text-align: right;\n",
       "    }\n",
       "</style>\n",
       "<table border=\"1\" class=\"dataframe\">\n",
       "  <thead>\n",
       "    <tr style=\"text-align: right;\">\n",
       "      <th></th>\n",
       "      <th>N</th>\n",
       "      <th>P</th>\n",
       "      <th>K</th>\n",
       "      <th>temperature</th>\n",
       "      <th>humidity</th>\n",
       "      <th>ph</th>\n",
       "      <th>rainfall</th>\n",
       "    </tr>\n",
       "  </thead>\n",
       "  <tbody>\n",
       "    <tr>\n",
       "      <th>count</th>\n",
       "      <td>100.000000</td>\n",
       "      <td>100.000000</td>\n",
       "      <td>100.000000</td>\n",
       "      <td>100.000000</td>\n",
       "      <td>100.000000</td>\n",
       "      <td>100.000000</td>\n",
       "      <td>100.000000</td>\n",
       "    </tr>\n",
       "    <tr>\n",
       "      <th>mean</th>\n",
       "      <td>79.890000</td>\n",
       "      <td>47.580000</td>\n",
       "      <td>39.870000</td>\n",
       "      <td>23.689332</td>\n",
       "      <td>82.272822</td>\n",
       "      <td>6.425471</td>\n",
       "      <td>236.181114</td>\n",
       "    </tr>\n",
       "    <tr>\n",
       "      <th>std</th>\n",
       "      <td>11.917981</td>\n",
       "      <td>7.904966</td>\n",
       "      <td>2.946167</td>\n",
       "      <td>2.031272</td>\n",
       "      <td>1.418381</td>\n",
       "      <td>0.768692</td>\n",
       "      <td>34.291825</td>\n",
       "    </tr>\n",
       "    <tr>\n",
       "      <th>min</th>\n",
       "      <td>60.000000</td>\n",
       "      <td>35.000000</td>\n",
       "      <td>35.000000</td>\n",
       "      <td>20.045414</td>\n",
       "      <td>80.122675</td>\n",
       "      <td>5.005307</td>\n",
       "      <td>182.561632</td>\n",
       "    </tr>\n",
       "    <tr>\n",
       "      <th>25%</th>\n",
       "      <td>69.000000</td>\n",
       "      <td>41.000000</td>\n",
       "      <td>38.000000</td>\n",
       "      <td>21.927064</td>\n",
       "      <td>80.952094</td>\n",
       "      <td>5.869992</td>\n",
       "      <td>204.334023</td>\n",
       "    </tr>\n",
       "    <tr>\n",
       "      <th>50%</th>\n",
       "      <td>80.000000</td>\n",
       "      <td>47.000000</td>\n",
       "      <td>40.000000</td>\n",
       "      <td>23.734837</td>\n",
       "      <td>82.189357</td>\n",
       "      <td>6.363804</td>\n",
       "      <td>233.119859</td>\n",
       "    </tr>\n",
       "    <tr>\n",
       "      <th>75%</th>\n",
       "      <td>91.000000</td>\n",
       "      <td>54.250000</td>\n",
       "      <td>42.000000</td>\n",
       "      <td>25.513702</td>\n",
       "      <td>83.470254</td>\n",
       "      <td>7.039147</td>\n",
       "      <td>264.126903</td>\n",
       "    </tr>\n",
       "    <tr>\n",
       "      <th>max</th>\n",
       "      <td>99.000000</td>\n",
       "      <td>60.000000</td>\n",
       "      <td>45.000000</td>\n",
       "      <td>26.929951</td>\n",
       "      <td>84.969072</td>\n",
       "      <td>7.868475</td>\n",
       "      <td>298.560117</td>\n",
       "    </tr>\n",
       "  </tbody>\n",
       "</table>\n",
       "</div>"
      ],
      "text/plain": [
       "                N           P           K  temperature    humidity  \\\n",
       "count  100.000000  100.000000  100.000000   100.000000  100.000000   \n",
       "mean    79.890000   47.580000   39.870000    23.689332   82.272822   \n",
       "std     11.917981    7.904966    2.946167     2.031272    1.418381   \n",
       "min     60.000000   35.000000   35.000000    20.045414   80.122675   \n",
       "25%     69.000000   41.000000   38.000000    21.927064   80.952094   \n",
       "50%     80.000000   47.000000   40.000000    23.734837   82.189357   \n",
       "75%     91.000000   54.250000   42.000000    25.513702   83.470254   \n",
       "max     99.000000   60.000000   45.000000    26.929951   84.969072   \n",
       "\n",
       "               ph    rainfall  \n",
       "count  100.000000  100.000000  \n",
       "mean     6.425471  236.181114  \n",
       "std      0.768692   34.291825  \n",
       "min      5.005307  182.561632  \n",
       "25%      5.869992  204.334023  \n",
       "50%      6.363804  233.119859  \n",
       "75%      7.039147  264.126903  \n",
       "max      7.868475  298.560117  "
      ]
     },
     "execution_count": 10,
     "metadata": {},
     "output_type": "execute_result"
    }
   ],
   "source": [
    "data[data['label']==\"rice\"][list].describe()"
   ]
  },
  {
   "cell_type": "code",
   "execution_count": 11,
   "metadata": {
    "colab": {
     "base_uri": "https://localhost:8080/"
    },
    "id": "awrBkmERbq2k",
    "outputId": "1e06e520-9fdb-4de5-a9d5-3507112ab65b"
   },
   "outputs": [
    {
     "data": {
      "text/plain": [
       "N               79.890000\n",
       "P               47.580000\n",
       "K               39.870000\n",
       "temperature     23.689332\n",
       "humidity        82.272822\n",
       "ph               6.425471\n",
       "rainfall       236.181114\n",
       "dtype: float64"
      ]
     },
     "execution_count": 11,
     "metadata": {},
     "output_type": "execute_result"
    }
   ],
   "source": [
    "data[data['label']==\"rice\"][list].mean()"
   ]
  },
  {
   "cell_type": "code",
   "execution_count": 12,
   "metadata": {
    "colab": {
     "base_uri": "https://localhost:8080/"
    },
    "id": "NhthKzPKZsLC",
    "outputId": "247129f8-0463-4c45-82ee-38f4ffdc2ef6"
   },
   "outputs": [
    {
     "data": {
      "text/plain": [
       "array(['rice', 'maize', 'chickpea', 'kidneybeans', 'pigeonpeas',\n",
       "       'mothbeans', 'mungbean', 'blackgram', 'lentil', 'pomegranate',\n",
       "       'banana', 'mango', 'grapes', 'watermelon', 'muskmelon', 'apple',\n",
       "       'orange', 'papaya', 'coconut', 'cotton', 'jute', 'coffee'],\n",
       "      dtype=object)"
      ]
     },
     "execution_count": 12,
     "metadata": {},
     "output_type": "execute_result"
    }
   ],
   "source": [
    "data['label'].unique()"
   ]
  },
  {
   "cell_type": "code",
   "execution_count": 27,
   "metadata": {
    "colab": {
     "base_uri": "https://localhost:8080/",
     "height": 447,
     "referenced_widgets": [
      "4748a8e8c99341b6aa6df684243606fe",
      "00e261108f75425d9a87a9ddbdb85fcd",
      "30abc14c44634feebba9cd9e9e352bf6",
      "3087c5ebc071421a97310b5429375e68",
      "10a328bad5504779953264751df7dcfa",
      "2aff8d1b9118449d958e3e5cc0e17404",
      "5fa3de2d009b4c3790310e34d98cfd1a"
     ]
    },
    "id": "5i7zMMyJ2pxn",
    "outputId": "a59cba28-8841-4d8e-9d75-7e00369bf055"
   },
   "outputs": [
    {
     "data": {
      "application/vnd.jupyter.widget-view+json": {
       "model_id": "0b373e5552034d4e9063bf820c60e1e8",
       "version_major": 2,
       "version_minor": 0
      },
      "text/plain": [
       "interactive(children=(Dropdown(description='conditions', options=('N', 'P', 'K', 'temperature', 'humidity', 'p…"
      ]
     },
     "metadata": {},
     "output_type": "display_data"
    }
   ],
   "source": [
    "#Comparing Average requirement and conditions for each crop\n",
    "import ipywidgets as widgets\n",
    "from ipywidgets import interact\n",
    "@interact\n",
    "def newdata (conditions=['N','P','K','temperature','humidity','ph','rainfall']) :\n",
    "    print (\" average of a certain crop for the \" , conditions )\n",
    "    for i in data['label'].unique():\n",
    "        print ( data[data['label']==i][conditions].mean())"
   ]
  },
  {
   "cell_type": "code",
   "execution_count": 34,
   "metadata": {
    "colab": {
     "base_uri": "https://localhost:8080/",
     "height": 139,
     "referenced_widgets": [
      "6f0c6f451fd44778aa569e64a651e201",
      "6a7cea9e06bb4a95899a56bfb31d4df9",
      "9bad23b0dad641a683afcf7f25bcce87",
      "ec4899d5f56c4d5da9575345022d65da",
      "43d1fb0b846e477bb507c5e0eef617b5",
      "8940afd323544287b1d93e7e9292f1c4",
      "e833c60fe3a14e88b6a6b4d7e121ddc4"
     ]
    },
    "id": "TdHS7gX53Mqu",
    "outputId": "936f4198-9617-47f9-a90b-5a193c31f37a"
   },
   "outputs": [
    {
     "data": {
      "application/vnd.jupyter.widget-view+json": {
       "model_id": "e73ca259b3004f2fba39189b36d7f25a",
       "version_major": 2,
       "version_minor": 0
      },
      "text/plain": [
       "interactive(children=(Dropdown(description='conditions', options=('N', 'P', 'K', 'temperature', 'humidity', 'p…"
      ]
     },
     "metadata": {},
     "output_type": "display_data"
    }
   ],
   "source": [
    "#Checking the below and above Average Conditions\n",
    "from ipywidgets import interact\n",
    "@interact\n",
    "def newdata (conditions=['N','P','K','temperature','humidity','ph','rainfall']) :\n",
    "    print (\" - crops are above for the \" , conditions , \" \\n \" , data[data[conditions] >= data[conditions].mean()]['label'].unique(), '\\n')\n",
    "    print (\" - crops are below for the \" , conditions , \" \\n \" , data[data[conditions] <= data[conditions].mean()]['label'].unique())"
   ]
  },
  {
   "cell_type": "code",
   "execution_count": 43,
   "metadata": {
    "colab": {
     "base_uri": "https://localhost:8080/",
     "height": 649
    },
    "id": "AfJapiyE3QRu",
    "outputId": "39b93df2-8ce6-41a5-f340-1912de4ccd3f"
   },
   "outputs": [
    {
     "data": {
      "image/png": "[encoded data removed]",
      "text/plain": [
       "<Figure size 1200x900 with 7 Axes>"
      ]
     },
     "metadata": {},
     "output_type": "display_data"
    }
   ],
   "source": [
    "#Checking distributiion for each crop\n",
    "figh = plt.figure(figsize= (12,9))\n",
    "\n",
    "plt.subplot (3,4,1)\n",
    "plt.hist(data['N'], color = 'Black')\n",
    "plt.xlabel('nitrogen')\n",
    "\n",
    "plt.subplot (3,4,2)\n",
    "plt.hist(data['P'], color = 'pink')\n",
    "plt.xlabel('phosphorou')\n",
    "\n",
    "plt.subplot (3,4,3)\n",
    "plt.hist(data['K'], color = 'yellow')\n",
    "plt.xlabel('Potassium')\n",
    "\n",
    "plt.subplot (3,4,4)\n",
    "plt.hist(data['temperature'], color = 'purple')\n",
    "plt.xlabel('temperature')\n",
    "\n",
    "plt.subplot (3,4,5)\n",
    "plt.hist(data['humidity'], color = 'Grey')\n",
    "plt.xlabel('humidity')\n",
    "\n",
    "plt.subplot (3,4,6)\n",
    "plt.hist(data['ph'], color = 'Brown')\n",
    "plt.xlabel('ph')\n",
    "\n",
    "plt.subplot (3,4,7)\n",
    "plt.hist(data['rainfall'], color = 'Red')\n",
    "plt.xlabel('rainfall')\n",
    "\n",
    "plt.suptitle ( ' distributiion for crops ' , fontsize = 15)\n",
    "plt.tight_layout ()\n",
    "plt.show()\n"
   ]
  },
  {
   "cell_type": "code",
   "execution_count": 44,
   "metadata": {
    "colab": {
     "base_uri": "https://localhost:8080/"
    },
    "id": "6sU2Xxas3SRA",
    "outputId": "7c178416-7968-47b3-baa0-0100e0f47171"
   },
   "outputs": [
    {
     "name": "stdout",
     "output_type": "stream",
     "text": [
      "are unusual requirements for Nitrogen  ['cotton']\n",
      "are unusual requirements for Phosphorus ['grapes' 'apple']\n",
      "are unusual requirements for Potassium  ['grapes' 'apple']\n",
      "are unusual requirements for temperature  ['grapes']\n",
      "are unusual requirements for temperature  ['grapes' 'papaya']\n",
      "are unusual requirements for PH  ['mothbeans']\n",
      "are unusual requirements for PH  ['mothbeans']\n",
      "are unusual requirements for humidity  ['chickpea' 'kidneybeans']\n",
      "are unusual requirements for rainfall  ['rice' 'papaya' 'coconut']\n"
     ]
    }
   ],
   "source": [
    "#Checking that crops those have unusual requirements\n",
    "print ('are unusual requirements for Nitrogen ' , data[data['N'] > 120 ]['label'].unique())\n",
    "print ('are unusual requirements for Phosphorus' , data[data['P'] > 100 ]['label'].unique())\n",
    "print ('are unusual requirements for Potassium ' , data[data['K'] > 200 ]['label'].unique())\n",
    "print ('are unusual requirements for temperature ' ,data[data['temperature'] < 10 ]['label'].unique())\n",
    "print ('are unusual requirements for temperature ' , data[data['temperature'] > 40 ]['label'].unique())\n",
    "print ('are unusual requirements for PH ' ,data[data['ph'] < 4  ]['label'].unique())\n",
    "print ('are unusual requirements for PH ' ,data[ data['ph'] > 9 ]['label'].unique())\n",
    "print ('are unusual requirements for humidity ' ,data[data['humidity'] < 20 ]['label'].unique())\n",
    "print ('are unusual requirements for rainfall ' , data[data['rainfall'] > 200 ]['label'].unique())"
   ]
  },
  {
   "cell_type": "code",
   "execution_count": 45,
   "metadata": {
    "colab": {
     "base_uri": "https://localhost:8080/"
    },
    "id": "8esMSlDw3Wbn",
    "outputId": "c37da7c1-5e48-4180-ae85-489c6a9c5fe7"
   },
   "outputs": [
    {
     "name": "stdout",
     "output_type": "stream",
     "text": [
      " crop to be grown in summer season  ['pigeonpeas' 'mothbeans' 'blackgram' 'mango' 'grapes' 'orange' 'papaya']\n",
      " crop to be grown in winter season  ['maize' 'pigeonpeas' 'lentil' 'pomegranate' 'grapes' 'orange']\n",
      " crop to be grown in moonsoon season  ['rice' 'papaya' 'coconut']\n"
     ]
    }
   ],
   "source": [
    "#Checking which crop to be grown according to the season\n",
    "print(\" crop to be grown in summer season \", data[(data['temperature'] > 30) & (data['humidity'] > 50)]['label'].unique())\n",
    "print(\" crop to be grown in winter season \", data[(data['temperature'] < 20 ) & (data['humidity'] >  30 )]['label'].unique())\n",
    "print(\" crop to be grown in moonsoon season \" , data[(data['rainfall'] > 200 ) & (data['humidity'] > 30  )]['label'].unique())"
   ]
  },
  {
   "cell_type": "code",
   "execution_count": 46,
   "metadata": {
    "colab": {
     "base_uri": "https://localhost:8080/",
     "height": 423
    },
    "id": "NPgYsYohG_K-",
    "outputId": "243f0a68-c12e-4c39-f51c-dee6518dd38d"
   },
   "outputs": [
    {
     "data": {
      "text/html": [
       "<div>\n",
       "<style scoped>\n",
       "    .dataframe tbody tr th:only-of-type {\n",
       "        vertical-align: middle;\n",
       "    }\n",
       "\n",
       "    .dataframe tbody tr th {\n",
       "        vertical-align: top;\n",
       "    }\n",
       "\n",
       "    .dataframe thead th {\n",
       "        text-align: right;\n",
       "    }\n",
       "</style>\n",
       "<table border=\"1\" class=\"dataframe\">\n",
       "  <thead>\n",
       "    <tr style=\"text-align: right;\">\n",
       "      <th></th>\n",
       "      <th>N</th>\n",
       "      <th>P</th>\n",
       "      <th>K</th>\n",
       "      <th>temperature</th>\n",
       "      <th>humidity</th>\n",
       "      <th>ph</th>\n",
       "      <th>rainfall</th>\n",
       "    </tr>\n",
       "  </thead>\n",
       "  <tbody>\n",
       "    <tr>\n",
       "      <th>0</th>\n",
       "      <td>90</td>\n",
       "      <td>42</td>\n",
       "      <td>43</td>\n",
       "      <td>20.879744</td>\n",
       "      <td>82.002744</td>\n",
       "      <td>6.502985</td>\n",
       "      <td>202.935536</td>\n",
       "    </tr>\n",
       "    <tr>\n",
       "      <th>1</th>\n",
       "      <td>85</td>\n",
       "      <td>58</td>\n",
       "      <td>41</td>\n",
       "      <td>21.770462</td>\n",
       "      <td>80.319644</td>\n",
       "      <td>7.038096</td>\n",
       "      <td>226.655537</td>\n",
       "    </tr>\n",
       "    <tr>\n",
       "      <th>2</th>\n",
       "      <td>60</td>\n",
       "      <td>55</td>\n",
       "      <td>44</td>\n",
       "      <td>23.004459</td>\n",
       "      <td>82.320763</td>\n",
       "      <td>7.840207</td>\n",
       "      <td>263.964248</td>\n",
       "    </tr>\n",
       "    <tr>\n",
       "      <th>3</th>\n",
       "      <td>74</td>\n",
       "      <td>35</td>\n",
       "      <td>40</td>\n",
       "      <td>26.491096</td>\n",
       "      <td>80.158363</td>\n",
       "      <td>6.980401</td>\n",
       "      <td>242.864034</td>\n",
       "    </tr>\n",
       "    <tr>\n",
       "      <th>4</th>\n",
       "      <td>78</td>\n",
       "      <td>42</td>\n",
       "      <td>42</td>\n",
       "      <td>20.130175</td>\n",
       "      <td>81.604873</td>\n",
       "      <td>7.628473</td>\n",
       "      <td>262.717340</td>\n",
       "    </tr>\n",
       "    <tr>\n",
       "      <th>...</th>\n",
       "      <td>...</td>\n",
       "      <td>...</td>\n",
       "      <td>...</td>\n",
       "      <td>...</td>\n",
       "      <td>...</td>\n",
       "      <td>...</td>\n",
       "      <td>...</td>\n",
       "    </tr>\n",
       "    <tr>\n",
       "      <th>2195</th>\n",
       "      <td>107</td>\n",
       "      <td>34</td>\n",
       "      <td>32</td>\n",
       "      <td>26.774637</td>\n",
       "      <td>66.413269</td>\n",
       "      <td>6.780064</td>\n",
       "      <td>177.774507</td>\n",
       "    </tr>\n",
       "    <tr>\n",
       "      <th>2196</th>\n",
       "      <td>99</td>\n",
       "      <td>15</td>\n",
       "      <td>27</td>\n",
       "      <td>27.417112</td>\n",
       "      <td>56.636362</td>\n",
       "      <td>6.086922</td>\n",
       "      <td>127.924610</td>\n",
       "    </tr>\n",
       "    <tr>\n",
       "      <th>2197</th>\n",
       "      <td>118</td>\n",
       "      <td>33</td>\n",
       "      <td>30</td>\n",
       "      <td>24.131797</td>\n",
       "      <td>67.225123</td>\n",
       "      <td>6.362608</td>\n",
       "      <td>173.322839</td>\n",
       "    </tr>\n",
       "    <tr>\n",
       "      <th>2198</th>\n",
       "      <td>117</td>\n",
       "      <td>32</td>\n",
       "      <td>34</td>\n",
       "      <td>26.272418</td>\n",
       "      <td>52.127394</td>\n",
       "      <td>6.758793</td>\n",
       "      <td>127.175293</td>\n",
       "    </tr>\n",
       "    <tr>\n",
       "      <th>2199</th>\n",
       "      <td>104</td>\n",
       "      <td>18</td>\n",
       "      <td>30</td>\n",
       "      <td>23.603016</td>\n",
       "      <td>60.396475</td>\n",
       "      <td>6.779833</td>\n",
       "      <td>140.937041</td>\n",
       "    </tr>\n",
       "  </tbody>\n",
       "</table>\n",
       "<p>2200 rows × 7 columns</p>\n",
       "</div>"
      ],
      "text/plain": [
       "        N   P   K  temperature   humidity        ph    rainfall\n",
       "0      90  42  43    20.879744  82.002744  6.502985  202.935536\n",
       "1      85  58  41    21.770462  80.319644  7.038096  226.655537\n",
       "2      60  55  44    23.004459  82.320763  7.840207  263.964248\n",
       "3      74  35  40    26.491096  80.158363  6.980401  242.864034\n",
       "4      78  42  42    20.130175  81.604873  7.628473  262.717340\n",
       "...   ...  ..  ..          ...        ...       ...         ...\n",
       "2195  107  34  32    26.774637  66.413269  6.780064  177.774507\n",
       "2196   99  15  27    27.417112  56.636362  6.086922  127.924610\n",
       "2197  118  33  30    24.131797  67.225123  6.362608  173.322839\n",
       "2198  117  32  34    26.272418  52.127394  6.758793  127.175293\n",
       "2199  104  18  30    23.603016  60.396475  6.779833  140.937041\n",
       "\n",
       "[2200 rows x 7 columns]"
      ]
     },
     "execution_count": 46,
     "metadata": {},
     "output_type": "execute_result"
    }
   ],
   "source": [
    "labels_to_remove = ['label']\n",
    "features = data.drop(labels=labels_to_remove, axis=1)\n",
    "features"
   ]
  },
  {
   "cell_type": "code",
   "execution_count": 47,
   "metadata": {
    "colab": {
     "base_uri": "https://localhost:8080/",
     "height": 854
    },
    "id": "F28X6845Lf79",
    "outputId": "a740367a-1303-4174-ebb4-02621e0f4316"
   },
   "outputs": [
    {
     "name": "stderr",
     "output_type": "stream",
     "text": [
      "C:\\Users\\zahra\\anaconda3\\lib\\site-packages\\sklearn\\cluster\\_kmeans.py:870: FutureWarning: The default value of `n_init` will change from 10 to 'auto' in 1.4. Set the value of `n_init` explicitly to suppress the warning\n",
      "  warnings.warn(\n",
      "C:\\Users\\zahra\\anaconda3\\lib\\site-packages\\sklearn\\cluster\\_kmeans.py:1382: UserWarning: KMeans is known to have a memory leak on Windows with MKL, when there are less chunks than available threads. You can avoid it by setting the environment variable OMP_NUM_THREADS=9.\n",
      "  warnings.warn(\n",
      "C:\\Users\\zahra\\anaconda3\\lib\\site-packages\\sklearn\\cluster\\_kmeans.py:870: FutureWarning: The default value of `n_init` will change from 10 to 'auto' in 1.4. Set the value of `n_init` explicitly to suppress the warning\n",
      "  warnings.warn(\n",
      "C:\\Users\\zahra\\anaconda3\\lib\\site-packages\\sklearn\\cluster\\_kmeans.py:1382: UserWarning: KMeans is known to have a memory leak on Windows with MKL, when there are less chunks than available threads. You can avoid it by setting the environment variable OMP_NUM_THREADS=9.\n",
      "  warnings.warn(\n",
      "C:\\Users\\zahra\\anaconda3\\lib\\site-packages\\sklearn\\cluster\\_kmeans.py:870: FutureWarning: The default value of `n_init` will change from 10 to 'auto' in 1.4. Set the value of `n_init` explicitly to suppress the warning\n",
      "  warnings.warn(\n",
      "C:\\Users\\zahra\\anaconda3\\lib\\site-packages\\sklearn\\cluster\\_kmeans.py:1382: UserWarning: KMeans is known to have a memory leak on Windows with MKL, when there are less chunks than available threads. You can avoid it by setting the environment variable OMP_NUM_THREADS=9.\n",
      "  warnings.warn(\n",
      "C:\\Users\\zahra\\anaconda3\\lib\\site-packages\\sklearn\\cluster\\_kmeans.py:870: FutureWarning: The default value of `n_init` will change from 10 to 'auto' in 1.4. Set the value of `n_init` explicitly to suppress the warning\n",
      "  warnings.warn(\n",
      "C:\\Users\\zahra\\anaconda3\\lib\\site-packages\\sklearn\\cluster\\_kmeans.py:1382: UserWarning: KMeans is known to have a memory leak on Windows with MKL, when there are less chunks than available threads. You can avoid it by setting the environment variable OMP_NUM_THREADS=9.\n",
      "  warnings.warn(\n",
      "C:\\Users\\zahra\\anaconda3\\lib\\site-packages\\sklearn\\cluster\\_kmeans.py:870: FutureWarning: The default value of `n_init` will change from 10 to 'auto' in 1.4. Set the value of `n_init` explicitly to suppress the warning\n",
      "  warnings.warn(\n",
      "C:\\Users\\zahra\\anaconda3\\lib\\site-packages\\sklearn\\cluster\\_kmeans.py:1382: UserWarning: KMeans is known to have a memory leak on Windows with MKL, when there are less chunks than available threads. You can avoid it by setting the environment variable OMP_NUM_THREADS=9.\n",
      "  warnings.warn(\n",
      "C:\\Users\\zahra\\anaconda3\\lib\\site-packages\\sklearn\\cluster\\_kmeans.py:870: FutureWarning: The default value of `n_init` will change from 10 to 'auto' in 1.4. Set the value of `n_init` explicitly to suppress the warning\n",
      "  warnings.warn(\n",
      "C:\\Users\\zahra\\anaconda3\\lib\\site-packages\\sklearn\\cluster\\_kmeans.py:1382: UserWarning: KMeans is known to have a memory leak on Windows with MKL, when there are less chunks than available threads. You can avoid it by setting the environment variable OMP_NUM_THREADS=9.\n",
      "  warnings.warn(\n",
      "C:\\Users\\zahra\\anaconda3\\lib\\site-packages\\sklearn\\cluster\\_kmeans.py:870: FutureWarning: The default value of `n_init` will change from 10 to 'auto' in 1.4. Set the value of `n_init` explicitly to suppress the warning\n",
      "  warnings.warn(\n",
      "C:\\Users\\zahra\\anaconda3\\lib\\site-packages\\sklearn\\cluster\\_kmeans.py:1382: UserWarning: KMeans is known to have a memory leak on Windows with MKL, when there are less chunks than available threads. You can avoid it by setting the environment variable OMP_NUM_THREADS=9.\n",
      "  warnings.warn(\n",
      "C:\\Users\\zahra\\anaconda3\\lib\\site-packages\\sklearn\\cluster\\_kmeans.py:870: FutureWarning: The default value of `n_init` will change from 10 to 'auto' in 1.4. Set the value of `n_init` explicitly to suppress the warning\n",
      "  warnings.warn(\n",
      "C:\\Users\\zahra\\anaconda3\\lib\\site-packages\\sklearn\\cluster\\_kmeans.py:1382: UserWarning: KMeans is known to have a memory leak on Windows with MKL, when there are less chunks than available threads. You can avoid it by setting the environment variable OMP_NUM_THREADS=9.\n",
      "  warnings.warn(\n",
      "C:\\Users\\zahra\\anaconda3\\lib\\site-packages\\sklearn\\cluster\\_kmeans.py:870: FutureWarning: The default value of `n_init` will change from 10 to 'auto' in 1.4. Set the value of `n_init` explicitly to suppress the warning\n",
      "  warnings.warn(\n",
      "C:\\Users\\zahra\\anaconda3\\lib\\site-packages\\sklearn\\cluster\\_kmeans.py:1382: UserWarning: KMeans is known to have a memory leak on Windows with MKL, when there are less chunks than available threads. You can avoid it by setting the environment variable OMP_NUM_THREADS=9.\n",
      "  warnings.warn(\n",
      "C:\\Users\\zahra\\anaconda3\\lib\\site-packages\\sklearn\\cluster\\_kmeans.py:870: FutureWarning: The default value of `n_init` will change from 10 to 'auto' in 1.4. Set the value of `n_init` explicitly to suppress the warning\n",
      "  warnings.warn(\n",
      "C:\\Users\\zahra\\anaconda3\\lib\\site-packages\\sklearn\\cluster\\_kmeans.py:1382: UserWarning: KMeans is known to have a memory leak on Windows with MKL, when there are less chunks than available threads. You can avoid it by setting the environment variable OMP_NUM_THREADS=9.\n",
      "  warnings.warn(\n"
     ]
    },
    {
     "data": {
      "image/png": "[encoded data removed]",
      "text/plain": [
       "<Figure size 640x480 with 1 Axes>"
      ]
     },
     "metadata": {},
     "output_type": "display_data"
    }
   ],
   "source": [
    "# elbow method to determine the appropriate clusters number \n",
    "\n",
    "from sklearn.cluster import KMeans\n",
    "inertias = []\n",
    "\n",
    "for i in range(1,11):\n",
    "  kmeans = KMeans(n_clusters=i)\n",
    "  kmeans.fit(features)\n",
    "  inertias.append(kmeans.inertia_)\n",
    "\n",
    "plt.plot(range(1,11), inertias, marker='o')\n",
    "plt.title('Elbow method')\n",
    "plt.xlabel('Number of clusters')\n",
    "plt.ylabel('Inertia')\n",
    "plt.show()"
   ]
  },
  {
   "cell_type": "code",
   "execution_count": 48,
   "metadata": {
    "colab": {
     "base_uri": "https://localhost:8080/"
    },
    "id": "ggtVo_-L3jyT",
    "outputId": "0f45cbcb-4291-4ff3-c091-5277a0efb35c"
   },
   "outputs": [
    {
     "name": "stderr",
     "output_type": "stream",
     "text": [
      "C:\\Users\\zahra\\anaconda3\\lib\\site-packages\\sklearn\\cluster\\_kmeans.py:1382: UserWarning: KMeans is known to have a memory leak on Windows with MKL, when there are less chunks than available threads. You can avoid it by setting the environment variable OMP_NUM_THREADS=9.\n",
      "  warnings.warn(\n"
     ]
    },
    {
     "name": "stdout",
     "output_type": "stream",
     "text": [
      "Lets Check the results after applying K Means Clustering Analysis \n",
      "\n",
      "Crops in First Cluster: ['maize' 'chickpea' 'kidneybeans' 'pigeonpeas' 'mothbeans' 'mungbean'\n",
      " 'blackgram' 'lentil' 'pomegranate' 'mango' 'orange' 'papaya' 'coconut']\n",
      "...........................................\n",
      "Crops in second Cluster: ['maize' 'banana' 'watermelon' 'muskmelon' 'papaya' 'cotton' 'coffee']\n",
      "...........................................\n",
      "Crops in third Cluster: ['grapes' 'apple']\n",
      "...........................................\n",
      "Crops in Fourth Cluster: ['rice' 'pigeonpeas' 'papaya' 'coconut' 'jute' 'coffee']\n",
      "...........................................\n"
     ]
    }
   ],
   "source": [
    "#Implementation of K Means algorithm to perform Clustering analysis\n",
    "\n",
    "km = KMeans(n_clusters = 4, init = 'k-means++',  max_iter = 2000, n_init = 10, random_state = 0)\n",
    "y_means = km.fit_predict(features)\n",
    "\n",
    "a = data['label']\n",
    "y_means = pd.DataFrame(y_means)\n",
    "z = pd.concat([y_means, a], axis = 1)\n",
    "z = z.rename(columns = {0: 'cluster'})\n",
    "\n",
    "print(\"Lets Check the results after applying K Means Clustering Analysis \\n\")\n",
    "print(\"Crops in First Cluster:\", z[z['cluster'] == 0]['label'].unique())\n",
    "print(\"...........................................\")\n",
    "\n",
    "print(\"Crops in second Cluster:\", z[z['cluster'] == 1]['label'].unique())\n",
    "print(\"...........................................\")\n",
    "\n",
    "print(\"Crops in third Cluster:\", z[z['cluster'] == 2]['label'].unique())\n",
    "print(\"...........................................\")\n",
    "\n",
    "print(\"Crops in Fourth Cluster:\", z[z['cluster'] == 3]['label'].unique())\n",
    "print(\"...........................................\")"
   ]
  },
  {
   "cell_type": "code",
   "execution_count": 49,
   "metadata": {
    "colab": {
     "base_uri": "https://localhost:8080/",
     "height": 423
    },
    "id": "84dXFwq43nCF",
    "outputId": "3697c851-2c57-4a17-bb20-71e383ed011f"
   },
   "outputs": [
    {
     "data": {
      "text/html": [
       "<div>\n",
       "<style scoped>\n",
       "    .dataframe tbody tr th:only-of-type {\n",
       "        vertical-align: middle;\n",
       "    }\n",
       "\n",
       "    .dataframe tbody tr th {\n",
       "        vertical-align: top;\n",
       "    }\n",
       "\n",
       "    .dataframe thead th {\n",
       "        text-align: right;\n",
       "    }\n",
       "</style>\n",
       "<table border=\"1\" class=\"dataframe\">\n",
       "  <thead>\n",
       "    <tr style=\"text-align: right;\">\n",
       "      <th></th>\n",
       "      <th>N</th>\n",
       "      <th>P</th>\n",
       "      <th>K</th>\n",
       "      <th>temperature</th>\n",
       "      <th>humidity</th>\n",
       "      <th>ph</th>\n",
       "      <th>rainfall</th>\n",
       "    </tr>\n",
       "  </thead>\n",
       "  <tbody>\n",
       "    <tr>\n",
       "      <th>0</th>\n",
       "      <td>90</td>\n",
       "      <td>42</td>\n",
       "      <td>43</td>\n",
       "      <td>20.879744</td>\n",
       "      <td>82.002744</td>\n",
       "      <td>6.502985</td>\n",
       "      <td>202.935536</td>\n",
       "    </tr>\n",
       "    <tr>\n",
       "      <th>1</th>\n",
       "      <td>85</td>\n",
       "      <td>58</td>\n",
       "      <td>41</td>\n",
       "      <td>21.770462</td>\n",
       "      <td>80.319644</td>\n",
       "      <td>7.038096</td>\n",
       "      <td>226.655537</td>\n",
       "    </tr>\n",
       "    <tr>\n",
       "      <th>2</th>\n",
       "      <td>60</td>\n",
       "      <td>55</td>\n",
       "      <td>44</td>\n",
       "      <td>23.004459</td>\n",
       "      <td>82.320763</td>\n",
       "      <td>7.840207</td>\n",
       "      <td>263.964248</td>\n",
       "    </tr>\n",
       "    <tr>\n",
       "      <th>3</th>\n",
       "      <td>74</td>\n",
       "      <td>35</td>\n",
       "      <td>40</td>\n",
       "      <td>26.491096</td>\n",
       "      <td>80.158363</td>\n",
       "      <td>6.980401</td>\n",
       "      <td>242.864034</td>\n",
       "    </tr>\n",
       "    <tr>\n",
       "      <th>4</th>\n",
       "      <td>78</td>\n",
       "      <td>42</td>\n",
       "      <td>42</td>\n",
       "      <td>20.130175</td>\n",
       "      <td>81.604873</td>\n",
       "      <td>7.628473</td>\n",
       "      <td>262.717340</td>\n",
       "    </tr>\n",
       "    <tr>\n",
       "      <th>...</th>\n",
       "      <td>...</td>\n",
       "      <td>...</td>\n",
       "      <td>...</td>\n",
       "      <td>...</td>\n",
       "      <td>...</td>\n",
       "      <td>...</td>\n",
       "      <td>...</td>\n",
       "    </tr>\n",
       "    <tr>\n",
       "      <th>2195</th>\n",
       "      <td>107</td>\n",
       "      <td>34</td>\n",
       "      <td>32</td>\n",
       "      <td>26.774637</td>\n",
       "      <td>66.413269</td>\n",
       "      <td>6.780064</td>\n",
       "      <td>177.774507</td>\n",
       "    </tr>\n",
       "    <tr>\n",
       "      <th>2196</th>\n",
       "      <td>99</td>\n",
       "      <td>15</td>\n",
       "      <td>27</td>\n",
       "      <td>27.417112</td>\n",
       "      <td>56.636362</td>\n",
       "      <td>6.086922</td>\n",
       "      <td>127.924610</td>\n",
       "    </tr>\n",
       "    <tr>\n",
       "      <th>2197</th>\n",
       "      <td>118</td>\n",
       "      <td>33</td>\n",
       "      <td>30</td>\n",
       "      <td>24.131797</td>\n",
       "      <td>67.225123</td>\n",
       "      <td>6.362608</td>\n",
       "      <td>173.322839</td>\n",
       "    </tr>\n",
       "    <tr>\n",
       "      <th>2198</th>\n",
       "      <td>117</td>\n",
       "      <td>32</td>\n",
       "      <td>34</td>\n",
       "      <td>26.272418</td>\n",
       "      <td>52.127394</td>\n",
       "      <td>6.758793</td>\n",
       "      <td>127.175293</td>\n",
       "    </tr>\n",
       "    <tr>\n",
       "      <th>2199</th>\n",
       "      <td>104</td>\n",
       "      <td>18</td>\n",
       "      <td>30</td>\n",
       "      <td>23.603016</td>\n",
       "      <td>60.396475</td>\n",
       "      <td>6.779833</td>\n",
       "      <td>140.937041</td>\n",
       "    </tr>\n",
       "  </tbody>\n",
       "</table>\n",
       "<p>2200 rows × 7 columns</p>\n",
       "</div>"
      ],
      "text/plain": [
       "        N   P   K  temperature   humidity        ph    rainfall\n",
       "0      90  42  43    20.879744  82.002744  6.502985  202.935536\n",
       "1      85  58  41    21.770462  80.319644  7.038096  226.655537\n",
       "2      60  55  44    23.004459  82.320763  7.840207  263.964248\n",
       "3      74  35  40    26.491096  80.158363  6.980401  242.864034\n",
       "4      78  42  42    20.130175  81.604873  7.628473  262.717340\n",
       "...   ...  ..  ..          ...        ...       ...         ...\n",
       "2195  107  34  32    26.774637  66.413269  6.780064  177.774507\n",
       "2196   99  15  27    27.417112  56.636362  6.086922  127.924610\n",
       "2197  118  33  30    24.131797  67.225123  6.362608  173.322839\n",
       "2198  117  32  34    26.272418  52.127394  6.758793  127.175293\n",
       "2199  104  18  30    23.603016  60.396475  6.779833  140.937041\n",
       "\n",
       "[2200 rows x 7 columns]"
      ]
     },
     "execution_count": 49,
     "metadata": {},
     "output_type": "execute_result"
    }
   ],
   "source": [
    "#Splitting the Dataset for predictive modelling\n",
    "label = data['label']\n",
    "features = data.drop(labels = ['label'] , axis=1)\n",
    "features\n"
   ]
  },
  {
   "cell_type": "code",
   "execution_count": 50,
   "metadata": {
    "colab": {
     "base_uri": "https://localhost:8080/"
    },
    "id": "2aI1Z54-OBqk",
    "outputId": "c6c741f5-d60e-4321-d066-31eec8ad8e51"
   },
   "outputs": [
    {
     "data": {
      "text/plain": [
       "0         rice\n",
       "1         rice\n",
       "2         rice\n",
       "3         rice\n",
       "4         rice\n",
       "         ...  \n",
       "2195    coffee\n",
       "2196    coffee\n",
       "2197    coffee\n",
       "2198    coffee\n",
       "2199    coffee\n",
       "Name: label, Length: 2200, dtype: object"
      ]
     },
     "execution_count": 50,
     "metadata": {},
     "output_type": "execute_result"
    }
   ],
   "source": [
    "label"
   ]
  },
  {
   "cell_type": "code",
   "execution_count": 51,
   "metadata": {
    "id": "iFDP4GfX3sj2"
   },
   "outputs": [],
   "source": [
    "#Creating training and testing sets for results validation\n",
    "from sklearn.model_selection import train_test_split\n",
    "x_train , x_test , y_train , y_test = train_test_split ( features ,label , test_size = 0.2 , random_state= 0 )"
   ]
  },
  {
   "cell_type": "code",
   "execution_count": 53,
   "metadata": {
    "colab": {
     "base_uri": "https://localhost:8080/"
    },
    "id": "dXMYxMDU3uhN",
    "outputId": "a4793a21-1340-46fb-eec7-c5fa06562bdb"
   },
   "outputs": [
    {
     "name": "stdout",
     "output_type": "stream",
     "text": [
      "0.9693181818181819\n"
     ]
    },
    {
     "name": "stderr",
     "output_type": "stream",
     "text": [
      "C:\\Users\\zahra\\anaconda3\\lib\\site-packages\\sklearn\\linear_model\\_logistic.py:458: ConvergenceWarning: lbfgs failed to converge (status=1):\n",
      "STOP: TOTAL NO. of ITERATIONS REACHED LIMIT.\n",
      "\n",
      "Increase the number of iterations (max_iter) or scale the data as shown in:\n",
      "    https://scikit-learn.org/stable/modules/preprocessing.html\n",
      "Please also refer to the documentation for alternative solver options:\n",
      "    https://scikit-learn.org/stable/modules/linear_model.html#logistic-regression\n",
      "  n_iter_i = _check_optimize_result(\n"
     ]
    }
   ],
   "source": [
    "#Creating a Predictive Model\n",
    "from sklearn.linear_model import LogisticRegression\n",
    "model = LogisticRegression ()\n",
    "model.fit (x_train ,y_train  )\n",
    "print (model.score (x_train ,y_train  ))"
   ]
  },
  {
   "cell_type": "code",
   "execution_count": 54,
   "metadata": {},
   "outputs": [
    {
     "name": "stdout",
     "output_type": "stream",
     "text": [
      "['watermelon' 'watermelon' 'grapes' 'chickpea' 'blackgram' 'jute'\n",
      " 'mothbeans' 'kidneybeans' 'muskmelon' 'banana' 'mothbeans' 'coffee'\n",
      " 'lentil' 'mungbean' 'mango' 'apple' 'coffee' 'lentil' 'coffee' 'mango'\n",
      " 'coconut' 'blackgram' 'kidneybeans' 'jute' 'cotton' 'coffee' 'lentil'\n",
      " 'orange' 'mothbeans' 'kidneybeans' 'pomegranate' 'rice' 'maize'\n",
      " 'muskmelon' 'coconut' 'cotton' 'mango' 'mango' 'watermelon' 'mothbeans'\n",
      " 'maize' 'blackgram' 'pigeonpeas' 'watermelon' 'pigeonpeas' 'mungbean'\n",
      " 'kidneybeans' 'kidneybeans' 'cotton' 'mungbean' 'mothbeans' 'blackgram'\n",
      " 'apple' 'muskmelon' 'pigeonpeas' 'banana' 'papaya' 'mango' 'lentil'\n",
      " 'cotton' 'orange' 'mungbean' 'watermelon' 'rice' 'muskmelon' 'apple'\n",
      " 'grapes' 'coffee' 'apple' 'orange' 'coconut' 'pomegranate' 'kidneybeans'\n",
      " 'maize' 'grapes' 'mothbeans' 'chickpea' 'maize' 'jute' 'mango' 'rice'\n",
      " 'mothbeans' 'watermelon' 'watermelon' 'muskmelon' 'cotton' 'maize'\n",
      " 'lentil' 'mothbeans' 'papaya' 'blackgram' 'jute' 'mungbean' 'grapes'\n",
      " 'mungbean' 'maize' 'coffee' 'jute' 'lentil' 'chickpea' 'orange' 'jute'\n",
      " 'mungbean' 'banana' 'banana' 'rice' 'watermelon' 'coffee' 'pigeonpeas'\n",
      " 'muskmelon' 'muskmelon' 'mango' 'coffee' 'grapes' 'orange' 'pomegranate'\n",
      " 'mungbean' 'lentil' 'maize' 'jute' 'pomegranate' 'lentil' 'orange'\n",
      " 'chickpea' 'chickpea' 'blackgram' 'pomegranate' 'orange' 'chickpea'\n",
      " 'papaya' 'mothbeans' 'blackgram' 'muskmelon' 'mungbean' 'cotton'\n",
      " 'mungbean' 'coconut' 'pomegranate' 'orange' 'blackgram' 'lentil' 'grapes'\n",
      " 'apple' 'coffee' 'chickpea' 'apple' 'jute' 'mango' 'watermelon' 'papaya'\n",
      " 'orange' 'coconut' 'mothbeans' 'banana' 'pomegranate' 'chickpea'\n",
      " 'watermelon' 'maize' 'apple' 'jute' 'lentil' 'pigeonpeas' 'jute'\n",
      " 'kidneybeans' 'kidneybeans' 'muskmelon' 'rice' 'muskmelon' 'banana'\n",
      " 'orange' 'pigeonpeas' 'apple' 'mothbeans' 'coconut' 'cotton' 'mungbean'\n",
      " 'kidneybeans' 'pomegranate' 'papaya' 'orange' 'rice' 'papaya' 'papaya'\n",
      " 'pigeonpeas' 'kidneybeans' 'banana' 'coconut' 'pigeonpeas' 'rice'\n",
      " 'papaya' 'maize' 'jute' 'mothbeans' 'rice' 'maize' 'coffee' 'pigeonpeas'\n",
      " 'coconut' 'chickpea' 'mango' 'coconut' 'pomegranate' 'cotton' 'mothbeans'\n",
      " 'mothbeans' 'orange' 'muskmelon' 'maize' 'pigeonpeas' 'banana' 'chickpea'\n",
      " 'blackgram' 'pigeonpeas' 'orange' 'mothbeans' 'mungbean' 'mango' 'papaya'\n",
      " 'muskmelon' 'pomegranate' 'jute' 'rice' 'blackgram' 'papaya' 'blackgram'\n",
      " 'coffee' 'maize' 'coffee' 'orange' 'rice' 'mothbeans' 'mungbean' 'orange'\n",
      " 'kidneybeans' 'pomegranate' 'coconut' 'mango' 'mungbean' 'cotton' 'rice'\n",
      " 'chickpea' 'mungbean' 'apple' 'pigeonpeas' 'mothbeans' 'rice'\n",
      " 'watermelon' 'blackgram' 'pomegranate' 'orange' 'maize' 'grapes'\n",
      " 'chickpea' 'pigeonpeas' 'jute' 'papaya' 'pomegranate' 'coffee' 'mango'\n",
      " 'mothbeans' 'jute' 'watermelon' 'pomegranate' 'rice' 'grapes' 'coconut'\n",
      " 'jute' 'lentil' 'chickpea' 'coffee' 'coffee' 'papaya' 'pomegranate'\n",
      " 'maize' 'rice' 'chickpea' 'pigeonpeas' 'orange' 'pomegranate'\n",
      " 'pigeonpeas' 'coconut' 'kidneybeans' 'pomegranate' 'muskmelon'\n",
      " 'mothbeans' 'mango' 'lentil' 'banana' 'blackgram' 'mango' 'kidneybeans'\n",
      " 'mango' 'cotton' 'mungbean' 'papaya' 'grapes' 'grapes' 'pigeonpeas'\n",
      " 'papaya' 'jute' 'rice' 'chickpea' 'muskmelon' 'coffee' 'watermelon'\n",
      " 'jute' 'jute' 'mothbeans' 'grapes' 'muskmelon' 'blackgram' 'mothbeans'\n",
      " 'mothbeans' 'chickpea' 'blackgram' 'mango' 'banana' 'mango' 'pomegranate'\n",
      " 'jute' 'orange' 'muskmelon' 'chickpea' 'lentil' 'cotton' 'papaya'\n",
      " 'grapes' 'kidneybeans' 'lentil' 'apple' 'rice' 'muskmelon' 'apple'\n",
      " 'papaya' 'blackgram' 'jute' 'chickpea' 'mothbeans' 'lentil' 'grapes'\n",
      " 'jute' 'kidneybeans' 'muskmelon' 'papaya' 'grapes' 'papaya' 'rice'\n",
      " 'coffee' 'muskmelon' 'mothbeans' 'banana' 'papaya' 'orange' 'kidneybeans'\n",
      " 'watermelon' 'pigeonpeas' 'apple' 'watermelon' 'watermelon' 'pigeonpeas'\n",
      " 'kidneybeans' 'blackgram' 'kidneybeans' 'jute' 'coconut' 'cotton'\n",
      " 'kidneybeans' 'orange' 'cotton' 'pigeonpeas' 'pomegranate' 'cotton'\n",
      " 'cotton' 'apple' 'cotton' 'apple' 'orange' 'maize' 'grapes' 'banana'\n",
      " 'apple' 'mothbeans' 'rice' 'kidneybeans' 'banana' 'jute' 'lentil'\n",
      " 'chickpea' 'pomegranate' 'banana' 'chickpea' 'muskmelon' 'pomegranate'\n",
      " 'apple' 'lentil' 'muskmelon' 'orange' 'blackgram' 'muskmelon' 'mothbeans'\n",
      " 'mango' 'chickpea' 'pomegranate' 'mango' 'chickpea' 'coconut' 'muskmelon'\n",
      " 'banana' 'pigeonpeas' 'papaya' 'jute' 'blackgram' 'cotton' 'rice'\n",
      " 'banana' 'coconut' 'rice' 'blackgram' 'maize' 'orange' 'watermelon'\n",
      " 'rice' 'apple' 'grapes' 'pigeonpeas' 'grapes' 'chickpea' 'mango' 'jute'\n",
      " 'pomegranate' 'maize' 'mango' 'grapes' 'banana' 'mungbean' 'pigeonpeas'\n",
      " 'banana' 'cotton' 'blackgram' 'apple']\n"
     ]
    }
   ],
   "source": [
    "y_pred = model.predict (x_test)\n",
    "print (y_pred)"
   ]
  },
  {
   "cell_type": "code",
   "execution_count": 55,
   "metadata": {
    "id": "jtzjJlYBRIQv"
   },
   "outputs": [],
   "source": [
    "import seaborn as sns"
   ]
  },
  {
   "cell_type": "code",
   "execution_count": 56,
   "metadata": {
    "colab": {
     "base_uri": "https://localhost:8080/",
     "height": 855
    },
    "id": "SxY_UW0x3woo",
    "outputId": "3573bcc6-5477-4906-cc2c-0d6781ed86d7"
   },
   "outputs": [
    {
     "data": {
      "image/png": "[encoded data removed]",
      "text/plain": [
       "<Figure size 1000x1000 with 2 Axes>"
      ]
     },
     "metadata": {},
     "output_type": "display_data"
    }
   ],
   "source": [
    "#Evaluating the model performance\n",
    "from sklearn.metrics import confusion_matrix\n",
    "\n",
    "plt.rcParams['figure.figsize'] = (10,10)\n",
    "cm = confusion_matrix(y_test, y_pred)\n",
    "sns.heatmap(cm, annot = True, cmap = 'Wistia')\n",
    "plt.title('Confusion Matrix For Logistic Regression', fontsize = 15)\n",
    "plt.show()"
   ]
  },
  {
   "cell_type": "code",
   "execution_count": 57,
   "metadata": {
    "colab": {
     "base_uri": "https://localhost:8080/"
    },
    "id": "j_7pDtD73zbf",
    "outputId": "b080a581-a28e-4f0e-ffbd-6facab7b37ed"
   },
   "outputs": [
    {
     "name": "stdout",
     "output_type": "stream",
     "text": [
      "              precision    recall  f1-score   support\n",
      "\n",
      "       apple       1.00      1.00      1.00        18\n",
      "      banana       1.00      1.00      1.00        18\n",
      "   blackgram       0.86      0.82      0.84        22\n",
      "    chickpea       1.00      1.00      1.00        23\n",
      "     coconut       1.00      1.00      1.00        15\n",
      "      coffee       1.00      1.00      1.00        17\n",
      "      cotton       0.89      1.00      0.94        16\n",
      "      grapes       1.00      1.00      1.00        18\n",
      "        jute       0.84      1.00      0.91        21\n",
      " kidneybeans       1.00      1.00      1.00        20\n",
      "      lentil       0.94      0.94      0.94        17\n",
      "       maize       0.94      0.89      0.91        18\n",
      "       mango       1.00      1.00      1.00        21\n",
      "   mothbeans       0.88      0.92      0.90        25\n",
      "    mungbean       1.00      1.00      1.00        17\n",
      "   muskmelon       1.00      1.00      1.00        23\n",
      "      orange       1.00      1.00      1.00        23\n",
      "      papaya       1.00      0.95      0.98        21\n",
      "  pigeonpeas       1.00      1.00      1.00        22\n",
      " pomegranate       1.00      1.00      1.00        23\n",
      "        rice       1.00      0.84      0.91        25\n",
      "  watermelon       1.00      1.00      1.00        17\n",
      "\n",
      "    accuracy                           0.97       440\n",
      "   macro avg       0.97      0.97      0.97       440\n",
      "weighted avg       0.97      0.97      0.97       440\n",
      "\n"
     ]
    }
   ],
   "source": [
    "#Defining the classification Report\n",
    "from sklearn.metrics import classification_report\n",
    "\n",
    "cr = classification_report(y_test, y_pred)\n",
    "print(cr)"
   ]
  },
  {
   "cell_type": "code",
   "execution_count": 58,
   "metadata": {
    "colab": {
     "base_uri": "https://localhost:8080/",
     "height": 206
    },
    "id": "VZq9xENrRgv2",
    "outputId": "6e38883e-085b-4411-ae90-62676d3c7902"
   },
   "outputs": [
    {
     "data": {
      "text/html": [
       "<div>\n",
       "<style scoped>\n",
       "    .dataframe tbody tr th:only-of-type {\n",
       "        vertical-align: middle;\n",
       "    }\n",
       "\n",
       "    .dataframe tbody tr th {\n",
       "        vertical-align: top;\n",
       "    }\n",
       "\n",
       "    .dataframe thead th {\n",
       "        text-align: right;\n",
       "    }\n",
       "</style>\n",
       "<table border=\"1\" class=\"dataframe\">\n",
       "  <thead>\n",
       "    <tr style=\"text-align: right;\">\n",
       "      <th></th>\n",
       "      <th>N</th>\n",
       "      <th>P</th>\n",
       "      <th>K</th>\n",
       "      <th>temperature</th>\n",
       "      <th>humidity</th>\n",
       "      <th>ph</th>\n",
       "      <th>rainfall</th>\n",
       "      <th>label</th>\n",
       "    </tr>\n",
       "  </thead>\n",
       "  <tbody>\n",
       "    <tr>\n",
       "      <th>0</th>\n",
       "      <td>90</td>\n",
       "      <td>42</td>\n",
       "      <td>43</td>\n",
       "      <td>20.879744</td>\n",
       "      <td>82.002744</td>\n",
       "      <td>6.502985</td>\n",
       "      <td>202.935536</td>\n",
       "      <td>rice</td>\n",
       "    </tr>\n",
       "    <tr>\n",
       "      <th>1</th>\n",
       "      <td>85</td>\n",
       "      <td>58</td>\n",
       "      <td>41</td>\n",
       "      <td>21.770462</td>\n",
       "      <td>80.319644</td>\n",
       "      <td>7.038096</td>\n",
       "      <td>226.655537</td>\n",
       "      <td>rice</td>\n",
       "    </tr>\n",
       "    <tr>\n",
       "      <th>2</th>\n",
       "      <td>60</td>\n",
       "      <td>55</td>\n",
       "      <td>44</td>\n",
       "      <td>23.004459</td>\n",
       "      <td>82.320763</td>\n",
       "      <td>7.840207</td>\n",
       "      <td>263.964248</td>\n",
       "      <td>rice</td>\n",
       "    </tr>\n",
       "    <tr>\n",
       "      <th>3</th>\n",
       "      <td>74</td>\n",
       "      <td>35</td>\n",
       "      <td>40</td>\n",
       "      <td>26.491096</td>\n",
       "      <td>80.158363</td>\n",
       "      <td>6.980401</td>\n",
       "      <td>242.864034</td>\n",
       "      <td>rice</td>\n",
       "    </tr>\n",
       "    <tr>\n",
       "      <th>4</th>\n",
       "      <td>78</td>\n",
       "      <td>42</td>\n",
       "      <td>42</td>\n",
       "      <td>20.130175</td>\n",
       "      <td>81.604873</td>\n",
       "      <td>7.628473</td>\n",
       "      <td>262.717340</td>\n",
       "      <td>rice</td>\n",
       "    </tr>\n",
       "  </tbody>\n",
       "</table>\n",
       "</div>"
      ],
      "text/plain": [
       "    N   P   K  temperature   humidity        ph    rainfall label\n",
       "0  90  42  43    20.879744  82.002744  6.502985  202.935536  rice\n",
       "1  85  58  41    21.770462  80.319644  7.038096  226.655537  rice\n",
       "2  60  55  44    23.004459  82.320763  7.840207  263.964248  rice\n",
       "3  74  35  40    26.491096  80.158363  6.980401  242.864034  rice\n",
       "4  78  42  42    20.130175  81.604873  7.628473  262.717340  rice"
      ]
     },
     "execution_count": 58,
     "metadata": {},
     "output_type": "execute_result"
    }
   ],
   "source": [
    "data.head()"
   ]
  },
  {
   "cell_type": "code",
   "execution_count": 61,
   "metadata": {
    "colab": {
     "base_uri": "https://localhost:8080/"
    },
    "id": "gAwuhNuo4FtN",
    "outputId": "8cda7ab4-47f7-42a8-9d83-e8b3ba530d44"
   },
   "outputs": [
    {
     "name": "stdout",
     "output_type": "stream",
     "text": [
      "The Suggested Crop for given climatic condition is : ['rice']\n"
     ]
    },
    {
     "name": "stderr",
     "output_type": "stream",
     "text": [
      "C:\\Users\\zahra\\anaconda3\\lib\\site-packages\\sklearn\\base.py:420: UserWarning: X does not have valid feature names, but LogisticRegression was fitted with feature names\n",
      "  warnings.warn(\n"
     ]
    }
   ],
   "source": [
    "prediction = model.predict (np.array ([[90 , 42 ,43 , 20.879744 ,82.002744 ,  6.502985 , 202.935536  ]]))\n",
    "print(\"The Suggested Crop for given climatic condition is :\",prediction)"
   ]
  },
  {
   "cell_type": "code",
   "execution_count": 62,
   "metadata": {
    "colab": {
     "base_uri": "https://localhost:8080/"
    },
    "id": "3v7RzdMK4NAI",
    "outputId": "5dc36ae2-718b-42e2-bffd-00146597ef58"
   },
   "outputs": [
    {
     "name": "stdout",
     "output_type": "stream",
     "text": [
      "1.0\n"
     ]
    }
   ],
   "source": [
    "# RandomForestClassifier model \n",
    "from sklearn.ensemble import RandomForestClassifier\n",
    "model2 = RandomForestClassifier ()\n",
    "model2.fit (x_train ,y_train )\n",
    "print (model2.score(x_train ,y_train ))"
   ]
  },
  {
   "cell_type": "code",
   "execution_count": 63,
   "metadata": {
    "colab": {
     "base_uri": "https://localhost:8080/"
    },
    "id": "1wN8or_nVKwt",
    "outputId": "5340ff5b-bfed-4d17-d551-2e4270e39d9d"
   },
   "outputs": [
    {
     "name": "stdout",
     "output_type": "stream",
     "text": [
      "['watermelon' 'watermelon' 'grapes' 'chickpea' 'blackgram' 'rice'\n",
      " 'mothbeans' 'kidneybeans' 'muskmelon' 'banana' 'mothbeans' 'coffee'\n",
      " 'lentil' 'mungbean' 'mango' 'apple' 'coffee' 'lentil' 'coffee' 'mango'\n",
      " 'coconut' 'blackgram' 'kidneybeans' 'jute' 'cotton' 'coffee' 'lentil'\n",
      " 'orange' 'mothbeans' 'kidneybeans' 'pomegranate' 'rice' 'maize'\n",
      " 'muskmelon' 'coconut' 'cotton' 'mango' 'mango' 'watermelon' 'mothbeans'\n",
      " 'maize' 'blackgram' 'pigeonpeas' 'watermelon' 'pigeonpeas' 'mungbean'\n",
      " 'kidneybeans' 'kidneybeans' 'cotton' 'mungbean' 'mothbeans' 'blackgram'\n",
      " 'apple' 'muskmelon' 'pigeonpeas' 'banana' 'papaya' 'mango' 'lentil'\n",
      " 'cotton' 'orange' 'mungbean' 'watermelon' 'rice' 'muskmelon' 'apple'\n",
      " 'grapes' 'coffee' 'apple' 'orange' 'coconut' 'pomegranate' 'kidneybeans'\n",
      " 'maize' 'grapes' 'mothbeans' 'chickpea' 'maize' 'jute' 'mango' 'rice'\n",
      " 'blackgram' 'watermelon' 'watermelon' 'muskmelon' 'cotton' 'maize'\n",
      " 'lentil' 'mothbeans' 'papaya' 'blackgram' 'jute' 'mungbean' 'grapes'\n",
      " 'mungbean' 'maize' 'coffee' 'jute' 'lentil' 'chickpea' 'orange' 'jute'\n",
      " 'mungbean' 'banana' 'banana' 'rice' 'watermelon' 'coffee' 'pigeonpeas'\n",
      " 'muskmelon' 'muskmelon' 'mango' 'coffee' 'grapes' 'orange' 'pomegranate'\n",
      " 'mungbean' 'lentil' 'maize' 'jute' 'pomegranate' 'lentil' 'orange'\n",
      " 'chickpea' 'chickpea' 'blackgram' 'pomegranate' 'orange' 'chickpea'\n",
      " 'papaya' 'mothbeans' 'mothbeans' 'muskmelon' 'mungbean' 'maize'\n",
      " 'mungbean' 'coconut' 'pomegranate' 'orange' 'blackgram' 'blackgram'\n",
      " 'grapes' 'apple' 'coffee' 'chickpea' 'apple' 'jute' 'mango' 'watermelon'\n",
      " 'papaya' 'orange' 'coconut' 'mothbeans' 'banana' 'pomegranate' 'chickpea'\n",
      " 'watermelon' 'blackgram' 'apple' 'jute' 'lentil' 'pigeonpeas' 'jute'\n",
      " 'kidneybeans' 'kidneybeans' 'muskmelon' 'rice' 'muskmelon' 'banana'\n",
      " 'orange' 'pigeonpeas' 'apple' 'mothbeans' 'coconut' 'cotton' 'mungbean'\n",
      " 'kidneybeans' 'pomegranate' 'papaya' 'orange' 'rice' 'papaya' 'papaya'\n",
      " 'pigeonpeas' 'kidneybeans' 'banana' 'coconut' 'pigeonpeas' 'rice'\n",
      " 'papaya' 'maize' 'jute' 'mothbeans' 'rice' 'maize' 'coffee' 'pigeonpeas'\n",
      " 'coconut' 'chickpea' 'mango' 'coconut' 'pomegranate' 'maize' 'mothbeans'\n",
      " 'mothbeans' 'orange' 'muskmelon' 'maize' 'pigeonpeas' 'banana' 'chickpea'\n",
      " 'blackgram' 'pigeonpeas' 'orange' 'mothbeans' 'mungbean' 'mango' 'papaya'\n",
      " 'muskmelon' 'pomegranate' 'jute' 'rice' 'blackgram' 'papaya' 'blackgram'\n",
      " 'coffee' 'maize' 'coffee' 'orange' 'rice' 'mothbeans' 'mungbean' 'orange'\n",
      " 'kidneybeans' 'pomegranate' 'coconut' 'mango' 'mungbean' 'cotton' 'rice'\n",
      " 'chickpea' 'mungbean' 'apple' 'pigeonpeas' 'blackgram' 'rice'\n",
      " 'watermelon' 'blackgram' 'pomegranate' 'orange' 'maize' 'grapes'\n",
      " 'chickpea' 'pigeonpeas' 'jute' 'papaya' 'pomegranate' 'coffee' 'mango'\n",
      " 'mothbeans' 'jute' 'watermelon' 'pomegranate' 'rice' 'grapes' 'coconut'\n",
      " 'jute' 'lentil' 'chickpea' 'coffee' 'coffee' 'papaya' 'pomegranate'\n",
      " 'maize' 'rice' 'chickpea' 'pigeonpeas' 'orange' 'pomegranate'\n",
      " 'pigeonpeas' 'coconut' 'kidneybeans' 'pomegranate' 'muskmelon'\n",
      " 'mothbeans' 'mango' 'lentil' 'banana' 'blackgram' 'mango' 'kidneybeans'\n",
      " 'mango' 'cotton' 'mungbean' 'papaya' 'grapes' 'grapes' 'pigeonpeas'\n",
      " 'papaya' 'jute' 'rice' 'chickpea' 'muskmelon' 'coffee' 'watermelon'\n",
      " 'rice' 'jute' 'papaya' 'grapes' 'muskmelon' 'blackgram' 'mothbeans'\n",
      " 'mothbeans' 'chickpea' 'blackgram' 'mango' 'banana' 'mango' 'pomegranate'\n",
      " 'jute' 'orange' 'muskmelon' 'chickpea' 'lentil' 'cotton' 'papaya'\n",
      " 'grapes' 'kidneybeans' 'lentil' 'apple' 'rice' 'muskmelon' 'apple'\n",
      " 'papaya' 'blackgram' 'jute' 'chickpea' 'mothbeans' 'lentil' 'grapes'\n",
      " 'jute' 'kidneybeans' 'muskmelon' 'papaya' 'grapes' 'papaya' 'rice'\n",
      " 'coffee' 'muskmelon' 'mothbeans' 'banana' 'papaya' 'orange' 'kidneybeans'\n",
      " 'watermelon' 'pigeonpeas' 'apple' 'watermelon' 'watermelon' 'pigeonpeas'\n",
      " 'kidneybeans' 'mothbeans' 'kidneybeans' 'jute' 'coconut' 'cotton'\n",
      " 'kidneybeans' 'orange' 'cotton' 'pigeonpeas' 'pomegranate' 'cotton'\n",
      " 'cotton' 'apple' 'cotton' 'apple' 'orange' 'maize' 'grapes' 'banana'\n",
      " 'apple' 'mothbeans' 'rice' 'kidneybeans' 'banana' 'rice' 'lentil'\n",
      " 'chickpea' 'pomegranate' 'banana' 'chickpea' 'muskmelon' 'pomegranate'\n",
      " 'apple' 'lentil' 'muskmelon' 'orange' 'blackgram' 'muskmelon' 'mothbeans'\n",
      " 'mango' 'chickpea' 'pomegranate' 'mango' 'chickpea' 'coconut' 'muskmelon'\n",
      " 'banana' 'pigeonpeas' 'papaya' 'jute' 'lentil' 'cotton' 'rice' 'banana'\n",
      " 'coconut' 'rice' 'blackgram' 'maize' 'orange' 'watermelon' 'rice' 'apple'\n",
      " 'grapes' 'pigeonpeas' 'grapes' 'chickpea' 'mango' 'jute' 'pomegranate'\n",
      " 'maize' 'mango' 'grapes' 'banana' 'mungbean' 'pigeonpeas' 'banana'\n",
      " 'cotton' 'blackgram' 'apple']\n"
     ]
    }
   ],
   "source": [
    "y_pred = model2.predict (x_test)\n",
    "print (y_pred)"
   ]
  },
  {
   "cell_type": "code",
   "execution_count": 64,
   "metadata": {
    "colab": {
     "base_uri": "https://localhost:8080/"
    },
    "id": "Aaz7gqJeWBVm",
    "outputId": "b5de70d3-3851-433d-f625-6937ff6dd7d3"
   },
   "outputs": [
    {
     "name": "stdout",
     "output_type": "stream",
     "text": [
      "1.0\n"
     ]
    }
   ],
   "source": [
    "print (model2.score (x_test ,y_pred ))"
   ]
  },
  {
   "cell_type": "code",
   "execution_count": 65,
   "metadata": {
    "colab": {
     "base_uri": "https://localhost:8080/"
    },
    "id": "lrcCcpNeVfF6",
    "outputId": "fbbf2c34-2a20-42a3-965f-4f704da87134"
   },
   "outputs": [
    {
     "name": "stdout",
     "output_type": "stream",
     "text": [
      "The Suggested Crop for given climatic condition is : ['rice']\n"
     ]
    },
    {
     "name": "stderr",
     "output_type": "stream",
     "text": [
      "C:\\Users\\zahra\\anaconda3\\lib\\site-packages\\sklearn\\base.py:420: UserWarning: X does not have valid feature names, but RandomForestClassifier was fitted with feature names\n",
      "  warnings.warn(\n"
     ]
    }
   ],
   "source": [
    "prediction = model2.predict (np.array ([[90 , 42 ,43 , 20.879744 ,82.002744 ,  6.502985 , 202.935536  ]]))\n",
    "print(\"The Suggested Crop for given climatic condition is :\",prediction)"
   ]
  },
  {
   "cell_type": "code",
   "execution_count": 68,
   "metadata": {
    "colab": {
     "base_uri": "https://localhost:8080/"
    },
    "id": "ZcBGtsMEZYIp",
    "outputId": "4813cccf-4272-47d5-c33b-27d81a67eba4"
   },
   "outputs": [
    {
     "name": "stdout",
     "output_type": "stream",
     "text": [
      "0.9767045454545454\n"
     ]
    }
   ],
   "source": [
    "# SVC model \n",
    "from sklearn.svm import SVC\n",
    "sv = SVC ()\n",
    "sv.fit (x_train ,y_train )\n",
    "print (sv.score(x_train ,y_train ))"
   ]
  },
  {
   "cell_type": "code",
   "execution_count": 69,
   "metadata": {
    "colab": {
     "base_uri": "https://localhost:8080/"
    },
    "id": "JcpYW0CFZsGL",
    "outputId": "43d19bcc-be1e-466b-a077-9d6bf424477c"
   },
   "outputs": [
    {
     "name": "stdout",
     "output_type": "stream",
     "text": [
      "0.9767045454545454\n"
     ]
    }
   ],
   "source": [
    "print (sv.score(x_train ,y_train ))"
   ]
  },
  {
   "cell_type": "code",
   "execution_count": 70,
   "metadata": {
    "colab": {
     "base_uri": "https://localhost:8080/"
    },
    "id": "JOGf6vlrZ1Xt",
    "outputId": "c5cc1530-07ef-4bde-a4e0-eab8be0580bb"
   },
   "outputs": [
    {
     "name": "stdout",
     "output_type": "stream",
     "text": [
      "['watermelon' 'watermelon' 'grapes' 'chickpea' 'blackgram' 'jute'\n",
      " 'mothbeans' 'kidneybeans' 'muskmelon' 'banana' 'mothbeans' 'coffee'\n",
      " 'lentil' 'mungbean' 'mango' 'apple' 'coffee' 'lentil' 'coffee' 'mango'\n",
      " 'coconut' 'blackgram' 'kidneybeans' 'jute' 'cotton' 'coffee' 'lentil'\n",
      " 'orange' 'mothbeans' 'kidneybeans' 'pomegranate' 'rice' 'maize'\n",
      " 'muskmelon' 'coconut' 'cotton' 'mango' 'mango' 'watermelon' 'blackgram'\n",
      " 'maize' 'blackgram' 'pigeonpeas' 'watermelon' 'pigeonpeas' 'mungbean'\n",
      " 'kidneybeans' 'kidneybeans' 'cotton' 'mungbean' 'mothbeans' 'blackgram'\n",
      " 'apple' 'muskmelon' 'pigeonpeas' 'banana' 'papaya' 'mango' 'lentil'\n",
      " 'cotton' 'orange' 'mungbean' 'watermelon' 'rice' 'muskmelon' 'apple'\n",
      " 'grapes' 'coffee' 'apple' 'orange' 'coconut' 'pomegranate' 'kidneybeans'\n",
      " 'maize' 'grapes' 'mothbeans' 'chickpea' 'maize' 'jute' 'mango' 'rice'\n",
      " 'blackgram' 'watermelon' 'watermelon' 'muskmelon' 'cotton' 'maize'\n",
      " 'lentil' 'mothbeans' 'papaya' 'blackgram' 'jute' 'mungbean' 'grapes'\n",
      " 'mungbean' 'maize' 'coffee' 'jute' 'lentil' 'chickpea' 'orange' 'jute'\n",
      " 'mungbean' 'banana' 'banana' 'rice' 'watermelon' 'coffee' 'pigeonpeas'\n",
      " 'muskmelon' 'muskmelon' 'mango' 'coffee' 'grapes' 'orange' 'pomegranate'\n",
      " 'mungbean' 'lentil' 'maize' 'jute' 'pomegranate' 'lentil' 'orange'\n",
      " 'chickpea' 'chickpea' 'blackgram' 'pomegranate' 'orange' 'chickpea'\n",
      " 'papaya' 'mothbeans' 'mothbeans' 'muskmelon' 'mungbean' 'maize'\n",
      " 'mungbean' 'coconut' 'pomegranate' 'orange' 'blackgram' 'blackgram'\n",
      " 'grapes' 'apple' 'coffee' 'chickpea' 'apple' 'jute' 'mango' 'watermelon'\n",
      " 'papaya' 'orange' 'coconut' 'mothbeans' 'banana' 'pomegranate' 'chickpea'\n",
      " 'watermelon' 'blackgram' 'apple' 'jute' 'lentil' 'pigeonpeas' 'jute'\n",
      " 'kidneybeans' 'kidneybeans' 'muskmelon' 'rice' 'muskmelon' 'banana'\n",
      " 'orange' 'kidneybeans' 'apple' 'mothbeans' 'coconut' 'cotton' 'mungbean'\n",
      " 'kidneybeans' 'pomegranate' 'papaya' 'orange' 'rice' 'papaya' 'papaya'\n",
      " 'kidneybeans' 'kidneybeans' 'banana' 'coconut' 'kidneybeans' 'rice'\n",
      " 'papaya' 'maize' 'jute' 'mothbeans' 'rice' 'maize' 'coffee' 'pigeonpeas'\n",
      " 'coconut' 'chickpea' 'mango' 'coconut' 'pomegranate' 'maize' 'mothbeans'\n",
      " 'mothbeans' 'orange' 'muskmelon' 'maize' 'pigeonpeas' 'banana' 'chickpea'\n",
      " 'blackgram' 'pigeonpeas' 'orange' 'mothbeans' 'mungbean' 'mango' 'papaya'\n",
      " 'muskmelon' 'pomegranate' 'jute' 'rice' 'blackgram' 'papaya' 'blackgram'\n",
      " 'coffee' 'maize' 'coffee' 'orange' 'jute' 'mothbeans' 'mungbean' 'orange'\n",
      " 'kidneybeans' 'pomegranate' 'coconut' 'mango' 'mungbean' 'cotton' 'rice'\n",
      " 'chickpea' 'mungbean' 'apple' 'pigeonpeas' 'blackgram' 'rice'\n",
      " 'watermelon' 'blackgram' 'pomegranate' 'orange' 'maize' 'grapes'\n",
      " 'chickpea' 'pigeonpeas' 'jute' 'papaya' 'pomegranate' 'coffee' 'mango'\n",
      " 'mothbeans' 'jute' 'watermelon' 'pomegranate' 'rice' 'grapes' 'coconut'\n",
      " 'jute' 'lentil' 'chickpea' 'coffee' 'coffee' 'papaya' 'pomegranate'\n",
      " 'maize' 'rice' 'chickpea' 'pigeonpeas' 'orange' 'pomegranate'\n",
      " 'pigeonpeas' 'coconut' 'kidneybeans' 'pomegranate' 'muskmelon'\n",
      " 'mothbeans' 'mango' 'lentil' 'banana' 'blackgram' 'mango' 'kidneybeans'\n",
      " 'mango' 'cotton' 'mungbean' 'papaya' 'grapes' 'grapes' 'pigeonpeas'\n",
      " 'papaya' 'jute' 'rice' 'chickpea' 'muskmelon' 'coffee' 'watermelon'\n",
      " 'jute' 'jute' 'papaya' 'grapes' 'muskmelon' 'blackgram' 'mothbeans'\n",
      " 'mothbeans' 'chickpea' 'blackgram' 'mango' 'banana' 'mango' 'pomegranate'\n",
      " 'jute' 'orange' 'muskmelon' 'chickpea' 'lentil' 'cotton' 'papaya'\n",
      " 'grapes' 'kidneybeans' 'lentil' 'apple' 'rice' 'muskmelon' 'apple'\n",
      " 'papaya' 'blackgram' 'jute' 'chickpea' 'mothbeans' 'lentil' 'grapes'\n",
      " 'jute' 'kidneybeans' 'muskmelon' 'papaya' 'grapes' 'papaya' 'jute'\n",
      " 'coffee' 'muskmelon' 'mothbeans' 'banana' 'papaya' 'orange' 'kidneybeans'\n",
      " 'watermelon' 'pigeonpeas' 'apple' 'watermelon' 'watermelon' 'pigeonpeas'\n",
      " 'kidneybeans' 'mothbeans' 'kidneybeans' 'jute' 'coconut' 'cotton'\n",
      " 'kidneybeans' 'orange' 'cotton' 'pigeonpeas' 'pomegranate' 'cotton'\n",
      " 'cotton' 'apple' 'cotton' 'apple' 'orange' 'maize' 'grapes' 'banana'\n",
      " 'apple' 'mothbeans' 'rice' 'kidneybeans' 'banana' 'jute' 'lentil'\n",
      " 'chickpea' 'pomegranate' 'banana' 'chickpea' 'muskmelon' 'pomegranate'\n",
      " 'apple' 'lentil' 'muskmelon' 'orange' 'blackgram' 'muskmelon' 'mothbeans'\n",
      " 'mango' 'chickpea' 'pomegranate' 'mango' 'chickpea' 'coconut' 'muskmelon'\n",
      " 'banana' 'pigeonpeas' 'papaya' 'jute' 'lentil' 'cotton' 'rice' 'banana'\n",
      " 'coconut' 'rice' 'blackgram' 'maize' 'orange' 'watermelon' 'rice' 'apple'\n",
      " 'grapes' 'pigeonpeas' 'grapes' 'chickpea' 'mango' 'jute' 'pomegranate'\n",
      " 'maize' 'mango' 'grapes' 'banana' 'mungbean' 'pigeonpeas' 'banana'\n",
      " 'cotton' 'blackgram' 'apple']\n"
     ]
    }
   ],
   "source": [
    "y_pred = sv.predict (x_test)\n",
    "print (y_pred)"
   ]
  },
  {
   "cell_type": "code",
   "execution_count": 71,
   "metadata": {
    "colab": {
     "base_uri": "https://localhost:8080/"
    },
    "id": "ZjATHjpcZ5bl",
    "outputId": "ce740526-5b61-434c-a014-d03d0f93efc5"
   },
   "outputs": [
    {
     "name": "stdout",
     "output_type": "stream",
     "text": [
      "The Suggested Crop for given climatic condition is : ['jute']\n"
     ]
    },
    {
     "name": "stderr",
     "output_type": "stream",
     "text": [
      "C:\\Users\\zahra\\anaconda3\\lib\\site-packages\\sklearn\\base.py:420: UserWarning: X does not have valid feature names, but SVC was fitted with feature names\n",
      "  warnings.warn(\n"
     ]
    }
   ],
   "source": [
    "prediction = sv.predict (np.array ([[90 , 42 ,43 , 20.879744 ,82.002744 ,  6.502985 , 202.935536  ]]))\n",
    "print(\"The Suggested Crop for given climatic condition is :\",prediction)"
   ]
  },
  {
   "cell_type": "code",
   "execution_count": 73,
   "metadata": {
    "colab": {
     "base_uri": "https://localhost:8080/"
    },
    "id": "dAIjJ9fwVsv0",
    "outputId": "a68f6839-d0f7-4055-abd9-3463b679e950"
   },
   "outputs": [
    {
     "name": "stdout",
     "output_type": "stream",
     "text": [
      "confusion matrix \n",
      "  \n",
      "  [[18  0  0  0  0  0  0  0  0  0  0  0  0  0  0  0  0  0  0  0  0  0]\n",
      " [ 0 18  0  0  0  0  0  0  0  0  0  0  0  0  0  0  0  0  0  0  0  0]\n",
      " [ 0  0 22  0  0  0  0  0  0  0  0  0  0  0  0  0  0  0  0  0  0  0]\n",
      " [ 0  0  0 23  0  0  0  0  0  0  0  0  0  0  0  0  0  0  0  0  0  0]\n",
      " [ 0  0  0  0 15  0  0  0  0  0  0  0  0  0  0  0  0  0  0  0  0  0]\n",
      " [ 0  0  0  0  0 17  0  0  0  0  0  0  0  0  0  0  0  0  0  0  0  0]\n",
      " [ 0  0  0  0  0  0 16  0  0  0  0  0  0  0  0  0  0  0  0  0  0  0]\n",
      " [ 0  0  0  0  0  0  0 18  0  0  0  0  0  0  0  0  0  0  0  0  0  0]\n",
      " [ 0  0  0  0  0  0  0  0 21  0  0  0  0  0  0  0  0  0  0  0  0  0]\n",
      " [ 0  0  0  0  0  0  0  0  0 20  0  0  0  0  0  0  0  0  0  0  0  0]\n",
      " [ 0  0  0  0  0  0  0  0  0  0 17  0  0  0  0  0  0  0  0  0  0  0]\n",
      " [ 0  0  0  0  0  0  0  0  0  0  0 18  0  0  0  0  0  0  0  0  0  0]\n",
      " [ 0  0  0  0  0  0  0  0  0  0  0  0 21  0  0  0  0  0  0  0  0  0]\n",
      " [ 0  0  1  0  0  0  0  0  0  0  0  0  0 24  0  0  0  0  0  0  0  0]\n",
      " [ 0  0  0  0  0  0  0  0  0  0  0  0  0  0 17  0  0  0  0  0  0  0]\n",
      " [ 0  0  0  0  0  0  0  0  0  0  0  0  0  0  0 23  0  0  0  0  0  0]\n",
      " [ 0  0  0  0  0  0  0  0  0  0  0  0  0  0  0  0 23  0  0  0  0  0]\n",
      " [ 0  0  0  0  0  0  0  0  0  0  0  0  0  0  0  0  0 21  0  0  0  0]\n",
      " [ 0  0  0  0  0  0  0  0  0  3  0  0  0  0  0  0  0  0 19  0  0  0]\n",
      " [ 0  0  0  0  0  0  0  0  0  0  0  0  0  0  0  0  0  0  0 23  0  0]\n",
      " [ 0  0  0  0  0  0  0  0  6  0  0  0  0  0  0  0  0  0  0  0 19  0]\n",
      " [ 0  0  0  0  0  0  0  0  0  0  0  0  0  0  0  0  0  0  0  0  0 17]]\n"
     ]
    }
   ],
   "source": [
    "\n",
    "from sklearn.metrics import confusion_matrix\n",
    "model3 = confusion_matrix ( y_test , y_pred)\n",
    "print (\"confusion matrix \\n \" , '\\n ',model3 )"
   ]
  },
  {
   "cell_type": "code",
   "execution_count": 74,
   "metadata": {
    "colab": {
     "base_uri": "https://localhost:8080/"
    },
    "id": "SxrIv1x_XIYK",
    "outputId": "6fe75a49-32f1-41af-c226-3e739f19ade9"
   },
   "outputs": [
    {
     "name": "stdout",
     "output_type": "stream",
     "text": [
      "              precision    recall  f1-score   support\n",
      "\n",
      "       apple       1.00      1.00      1.00        18\n",
      "      banana       1.00      1.00      1.00        18\n",
      "   blackgram       0.96      1.00      0.98        22\n",
      "    chickpea       1.00      1.00      1.00        23\n",
      "     coconut       1.00      1.00      1.00        15\n",
      "      coffee       1.00      1.00      1.00        17\n",
      "      cotton       1.00      1.00      1.00        16\n",
      "      grapes       1.00      1.00      1.00        18\n",
      "        jute       0.78      1.00      0.88        21\n",
      " kidneybeans       0.87      1.00      0.93        20\n",
      "      lentil       1.00      1.00      1.00        17\n",
      "       maize       1.00      1.00      1.00        18\n",
      "       mango       1.00      1.00      1.00        21\n",
      "   mothbeans       1.00      0.96      0.98        25\n",
      "    mungbean       1.00      1.00      1.00        17\n",
      "   muskmelon       1.00      1.00      1.00        23\n",
      "      orange       1.00      1.00      1.00        23\n",
      "      papaya       1.00      1.00      1.00        21\n",
      "  pigeonpeas       1.00      0.86      0.93        22\n",
      " pomegranate       1.00      1.00      1.00        23\n",
      "        rice       1.00      0.76      0.86        25\n",
      "  watermelon       1.00      1.00      1.00        17\n",
      "\n",
      "    accuracy                           0.98       440\n",
      "   macro avg       0.98      0.98      0.98       440\n",
      "weighted avg       0.98      0.98      0.98       440\n",
      "\n"
     ]
    }
   ],
   "source": [
    "from sklearn.metrics import classification_report\n",
    "cr = classification_report(y_test, y_pred)\n",
    "print(cr)"
   ]
  }
 ],
 "metadata": {
  "colab": {
   "provenance": []
  },
  "kernelspec": {
   "display_name": "Python 3 (ipykernel)",
   "language": "python",
   "name": "python3"
  },
  "language_info": {
   "codemirror_mode": {
    "name": "ipython",
    "version": 3
   },
   "file_extension": ".py",
   "mimetype": "text/x-python",
   "name": "python",
   "nbconvert_exporter": "python",
   "pygments_lexer": "ipython3",
   "version": "3.10.9"
  },
  "widgets": {
   "application/vnd.jupyter.widget-state+json": {
    "00e261108f75425d9a87a9ddbdb85fcd": {
     "model_module": "@jupyter-widgets/controls",
     "model_module_version": "1.5.0",
     "model_name": "DropdownModel",
     "state": {
      "_dom_classes": [],
      "_model_module": "@jupyter-widgets/controls",
      "_model_module_version": "1.5.0",
      "_model_name": "DropdownModel",
      "_options_labels": [
       "N",
       "P",
       "K",
       "temperature",
       "humidity",
       "ph",
       "rainfall"
      ],
      "_view_count": null,
      "_view_module": "@jupyter-widgets/controls",
      "_view_module_version": "1.5.0",
      "_view_name": "DropdownView",
      "description": "conditions",
      "description_tooltip": null,
      "disabled": false,
      "index": 0,
      "layout": "IPY_MODEL_10a328bad5504779953264751df7dcfa",
      "style": "IPY_MODEL_2aff8d1b9118449d958e3e5cc0e17404"
     }
    },
    "10a328bad5504779953264751df7dcfa": {
     "model_module": "@jupyter-widgets/base",
     "model_module_version": "1.2.0",
     "model_name": "LayoutModel",
     "state": {
      "_model_module": "@jupyter-widgets/base",
      "_model_module_version": "1.2.0",
      "_model_name": "LayoutModel",
      "_view_count": null,
      "_view_module": "@jupyter-widgets/base",
      "_view_module_version": "1.2.0",
      "_view_name": "LayoutView",
      "align_content": null,
      "align_items": null,
      "align_self": null,
      "border": null,
      "bottom": null,
      "display": null,
      "flex": null,
      "flex_flow": null,
      "grid_area": null,
      "grid_auto_columns": null,
      "grid_auto_flow": null,
      "grid_auto_rows": null,
      "grid_column": null,
      "grid_gap": null,
      "grid_row": null,
      "grid_template_areas": null,
      "grid_template_columns": null,
      "grid_template_rows": null,
      "height": null,
      "justify_content": null,
      "justify_items": null,
      "left": null,
      "margin": null,
      "max_height": null,
      "max_width": null,
      "min_height": null,
      "min_width": null,
      "object_fit": null,
      "object_position": null,
      "order": null,
      "overflow": null,
      "overflow_x": null,
      "overflow_y": null,
      "padding": null,
      "right": null,
      "top": null,
      "visibility": null,
      "width": null
     }
    },
    "2aff8d1b9118449d958e3e5cc0e17404": {
     "model_module": "@jupyter-widgets/controls",
     "model_module_version": "1.5.0",
     "model_name": "DescriptionStyleModel",
     "state": {
      "_model_module": "@jupyter-widgets/controls",
      "_model_module_version": "1.5.0",
      "_model_name": "DescriptionStyleModel",
      "_view_count": null,
      "_view_module": "@jupyter-widgets/base",
      "_view_module_version": "1.2.0",
      "_view_name": "StyleView",
      "description_width": ""
     }
    },
    "3087c5ebc071421a97310b5429375e68": {
     "model_module": "@jupyter-widgets/base",
     "model_module_version": "1.2.0",
     "model_name": "LayoutModel",
     "state": {
      "_model_module": "@jupyter-widgets/base",
      "_model_module_version": "1.2.0",
      "_model_name": "LayoutModel",
      "_view_count": null,
      "_view_module": "@jupyter-widgets/base",
      "_view_module_version": "1.2.0",
      "_view_name": "LayoutView",
      "align_content": null,
      "align_items": null,
      "align_self": null,
      "border": null,
      "bottom": null,
      "display": null,
      "flex": null,
      "flex_flow": null,
      "grid_area": null,
      "grid_auto_columns": null,
      "grid_auto_flow": null,
      "grid_auto_rows": null,
      "grid_column": null,
      "grid_gap": null,
      "grid_row": null,
      "grid_template_areas": null,
      "grid_template_columns": null,
      "grid_template_rows": null,
      "height": null,
      "justify_content": null,
      "justify_items": null,
      "left": null,
      "margin": null,
      "max_height": null,
      "max_width": null,
      "min_height": null,
      "min_width": null,
      "object_fit": null,
      "object_position": null,
      "order": null,
      "overflow": null,
      "overflow_x": null,
      "overflow_y": null,
      "padding": null,
      "right": null,
      "top": null,
      "visibility": null,
      "width": null
     }
    },
    "30abc14c44634feebba9cd9e9e352bf6": {
     "model_module": "@jupyter-widgets/output",
     "model_module_version": "1.0.0",
     "model_name": "OutputModel",
     "state": {
      "_dom_classes": [],
      "_model_module": "@jupyter-widgets/output",
      "_model_module_version": "1.0.0",
      "_model_name": "OutputModel",
      "_view_count": null,
      "_view_module": "@jupyter-widgets/output",
      "_view_module_version": "1.0.0",
      "_view_name": "OutputView",
      "layout": "IPY_MODEL_5fa3de2d009b4c3790310e34d98cfd1a",
      "msg_id": "",
      "outputs": [
       {
        "name": "stdout",
        "output_type": "stream",
        "text": [
         "79.89\n",
         "77.76\n",
         "40.09\n",
         "20.75\n",
         "20.73\n",
         "21.44\n",
         "20.99\n",
         "40.02\n",
         "18.77\n",
         "18.87\n",
         "100.23\n",
         "20.07\n",
         "23.18\n",
         "99.42\n",
         "100.32\n",
         "20.8\n",
         "19.58\n",
         "49.88\n",
         "21.98\n",
         "117.77\n",
         "78.4\n",
         "101.2\n"
        ]
       }
      ]
     }
    },
    "43d1fb0b846e477bb507c5e0eef617b5": {
     "model_module": "@jupyter-widgets/base",
     "model_module_version": "1.2.0",
     "model_name": "LayoutModel",
     "state": {
      "_model_module": "@jupyter-widgets/base",
      "_model_module_version": "1.2.0",
      "_model_name": "LayoutModel",
      "_view_count": null,
      "_view_module": "@jupyter-widgets/base",
      "_view_module_version": "1.2.0",
      "_view_name": "LayoutView",
      "align_content": null,
      "align_items": null,
      "align_self": null,
      "border": null,
      "bottom": null,
      "display": null,
      "flex": null,
      "flex_flow": null,
      "grid_area": null,
      "grid_auto_columns": null,
      "grid_auto_flow": null,
      "grid_auto_rows": null,
      "grid_column": null,
      "grid_gap": null,
      "grid_row": null,
      "grid_template_areas": null,
      "grid_template_columns": null,
      "grid_template_rows": null,
      "height": null,
      "justify_content": null,
      "justify_items": null,
      "left": null,
      "margin": null,
      "max_height": null,
      "max_width": null,
      "min_height": null,
      "min_width": null,
      "object_fit": null,
      "object_position": null,
      "order": null,
      "overflow": null,
      "overflow_x": null,
      "overflow_y": null,
      "padding": null,
      "right": null,
      "top": null,
      "visibility": null,
      "width": null
     }
    },
    "4748a8e8c99341b6aa6df684243606fe": {
     "model_module": "@jupyter-widgets/controls",
     "model_module_version": "1.5.0",
     "model_name": "VBoxModel",
     "state": {
      "_dom_classes": [
       "widget-interact"
      ],
      "_model_module": "@jupyter-widgets/controls",
      "_model_module_version": "1.5.0",
      "_model_name": "VBoxModel",
      "_view_count": null,
      "_view_module": "@jupyter-widgets/controls",
      "_view_module_version": "1.5.0",
      "_view_name": "VBoxView",
      "box_style": "",
      "children": [
       "IPY_MODEL_00e261108f75425d9a87a9ddbdb85fcd",
       "IPY_MODEL_30abc14c44634feebba9cd9e9e352bf6"
      ],
      "layout": "IPY_MODEL_3087c5ebc071421a97310b5429375e68"
     }
    },
    "5fa3de2d009b4c3790310e34d98cfd1a": {
     "model_module": "@jupyter-widgets/base",
     "model_module_version": "1.2.0",
     "model_name": "LayoutModel",
     "state": {
      "_model_module": "@jupyter-widgets/base",
      "_model_module_version": "1.2.0",
      "_model_name": "LayoutModel",
      "_view_count": null,
      "_view_module": "@jupyter-widgets/base",
      "_view_module_version": "1.2.0",
      "_view_name": "LayoutView",
      "align_content": null,
      "align_items": null,
      "align_self": null,
      "border": null,
      "bottom": null,
      "display": null,
      "flex": null,
      "flex_flow": null,
      "grid_area": null,
      "grid_auto_columns": null,
      "grid_auto_flow": null,
      "grid_auto_rows": null,
      "grid_column": null,
      "grid_gap": null,
      "grid_row": null,
      "grid_template_areas": null,
      "grid_template_columns": null,
      "grid_template_rows": null,
      "height": null,
      "justify_content": null,
      "justify_items": null,
      "left": null,
      "margin": null,
      "max_height": null,
      "max_width": null,
      "min_height": null,
      "min_width": null,
      "object_fit": null,
      "object_position": null,
      "order": null,
      "overflow": null,
      "overflow_x": null,
      "overflow_y": null,
      "padding": null,
      "right": null,
      "top": null,
      "visibility": null,
      "width": null
     }
    },
    "6a7cea9e06bb4a95899a56bfb31d4df9": {
     "model_module": "@jupyter-widgets/controls",
     "model_module_version": "1.5.0",
     "model_name": "DropdownModel",
     "state": {
      "_dom_classes": [],
      "_model_module": "@jupyter-widgets/controls",
      "_model_module_version": "1.5.0",
      "_model_name": "DropdownModel",
      "_options_labels": [
       "N",
       "P",
       "K",
       "temperature",
       "humidity",
       "ph",
       "rainfall"
      ],
      "_view_count": null,
      "_view_module": "@jupyter-widgets/controls",
      "_view_module_version": "1.5.0",
      "_view_name": "DropdownView",
      "description": "conditions",
      "description_tooltip": null,
      "disabled": false,
      "index": 0,
      "layout": "IPY_MODEL_43d1fb0b846e477bb507c5e0eef617b5",
      "style": "IPY_MODEL_8940afd323544287b1d93e7e9292f1c4"
     }
    },
    "6f0c6f451fd44778aa569e64a651e201": {
     "model_module": "@jupyter-widgets/controls",
     "model_module_version": "1.5.0",
     "model_name": "VBoxModel",
     "state": {
      "_dom_classes": [
       "widget-interact"
      ],
      "_model_module": "@jupyter-widgets/controls",
      "_model_module_version": "1.5.0",
      "_model_name": "VBoxModel",
      "_view_count": null,
      "_view_module": "@jupyter-widgets/controls",
      "_view_module_version": "1.5.0",
      "_view_name": "VBoxView",
      "box_style": "",
      "children": [
       "IPY_MODEL_6a7cea9e06bb4a95899a56bfb31d4df9",
       "IPY_MODEL_9bad23b0dad641a683afcf7f25bcce87"
      ],
      "layout": "IPY_MODEL_ec4899d5f56c4d5da9575345022d65da"
     }
    },
    "8940afd323544287b1d93e7e9292f1c4": {
     "model_module": "@jupyter-widgets/controls",
     "model_module_version": "1.5.0",
     "model_name": "DescriptionStyleModel",
     "state": {
      "_model_module": "@jupyter-widgets/controls",
      "_model_module_version": "1.5.0",
      "_model_name": "DescriptionStyleModel",
      "_view_count": null,
      "_view_module": "@jupyter-widgets/base",
      "_view_module_version": "1.2.0",
      "_view_name": "StyleView",
      "description_width": ""
     }
    },
    "9bad23b0dad641a683afcf7f25bcce87": {
     "model_module": "@jupyter-widgets/output",
     "model_module_version": "1.0.0",
     "model_name": "OutputModel",
     "state": {
      "_dom_classes": [],
      "_model_module": "@jupyter-widgets/output",
      "_model_module_version": "1.0.0",
      "_model_name": "OutputModel",
      "_view_count": null,
      "_view_module": "@jupyter-widgets/output",
      "_view_module_version": "1.0.0",
      "_view_name": "OutputView",
      "layout": "IPY_MODEL_e833c60fe3a14e88b6a6b4d7e121ddc4",
      "msg_id": "",
      "outputs": [
       {
        "name": "stdout",
        "output_type": "stream",
        "text": [
         "['rice' 'maize' 'chickpea' 'blackgram' 'banana' 'watermelon' 'muskmelon'\n",
         " 'papaya' 'cotton' 'jute' 'coffee']\n",
         "['chickpea' 'kidneybeans' 'pigeonpeas' 'mothbeans' 'mungbean' 'blackgram'\n",
         " 'lentil' 'pomegranate' 'mango' 'grapes' 'apple' 'orange' 'papaya'\n",
         " 'coconut']\n"
        ]
       }
      ]
     }
    },
    "e833c60fe3a14e88b6a6b4d7e121ddc4": {
     "model_module": "@jupyter-widgets/base",
     "model_module_version": "1.2.0",
     "model_name": "LayoutModel",
     "state": {
      "_model_module": "@jupyter-widgets/base",
      "_model_module_version": "1.2.0",
      "_model_name": "LayoutModel",
      "_view_count": null,
      "_view_module": "@jupyter-widgets/base",
      "_view_module_version": "1.2.0",
      "_view_name": "LayoutView",
      "align_content": null,
      "align_items": null,
      "align_self": null,
      "border": null,
      "bottom": null,
      "display": null,
      "flex": null,
      "flex_flow": null,
      "grid_area": null,
      "grid_auto_columns": null,
      "grid_auto_flow": null,
      "grid_auto_rows": null,
      "grid_column": null,
      "grid_gap": null,
      "grid_row": null,
      "grid_template_areas": null,
      "grid_template_columns": null,
      "grid_template_rows": null,
      "height": null,
      "justify_content": null,
      "justify_items": null,
      "left": null,
      "margin": null,
      "max_height": null,
      "max_width": null,
      "min_height": null,
      "min_width": null,
      "object_fit": null,
      "object_position": null,
      "order": null,
      "overflow": null,
      "overflow_x": null,
      "overflow_y": null,
      "padding": null,
      "right": null,
      "top": null,
      "visibility": null,
      "width": null
     }
    },
    "ec4899d5f56c4d5da9575345022d65da": {
     "model_module": "@jupyter-widgets/base",
     "model_module_version": "1.2.0",
     "model_name": "LayoutModel",
     "state": {
      "_model_module": "@jupyter-widgets/base",
      "_model_module_version": "1.2.0",
      "_model_name": "LayoutModel",
      "_view_count": null,
      "_view_module": "@jupyter-widgets/base",
      "_view_module_version": "1.2.0",
      "_view_name": "LayoutView",
      "align_content": null,
      "align_items": null,
      "align_self": null,
      "border": null,
      "bottom": null,
      "display": null,
      "flex": null,
      "flex_flow": null,
      "grid_area": null,
      "grid_auto_columns": null,
      "grid_auto_flow": null,
      "grid_auto_rows": null,
      "grid_column": null,
      "grid_gap": null,
      "grid_row": null,
      "grid_template_areas": null,
      "grid_template_columns": null,
      "grid_template_rows": null,
      "height": null,
      "justify_content": null,
      "justify_items": null,
      "left": null,
      "margin": null,
      "max_height": null,
      "max_width": null,
      "min_height": null,
      "min_width": null,
      "object_fit": null,
      "object_position": null,
      "order": null,
      "overflow": null,
      "overflow_x": null,
      "overflow_y": null,
      "padding": null,
      "right": null,
      "top": null,
      "visibility": null,
      "width": null
     }
    }
   }
  }
 },
 "nbformat": 4,
 "nbformat_minor": 1
}
